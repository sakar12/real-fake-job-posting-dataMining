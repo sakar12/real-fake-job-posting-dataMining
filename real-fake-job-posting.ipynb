{
  "cells": [
    {
      "cell_type": "code",
      "execution_count": null,
      "metadata": {
        "colab": {
          "base_uri": "https://localhost:8080/",
          "height": 77
        },
        "id": "CZ3sNjmEOiMp",
        "outputId": "ab2bc4dc-b247-4657-e9df-2da8a922626f"
      },
      "outputs": [
        {
          "output_type": "display_data",
          "data": {
            "text/plain": [
              "<IPython.core.display.HTML object>"
            ],
            "text/html": [
              "\n",
              "     <input type=\"file\" id=\"files-217e6116-f22f-47a1-a30c-d1a84414a021\" name=\"files[]\" multiple disabled\n",
              "        style=\"border:none\" />\n",
              "     <output id=\"result-217e6116-f22f-47a1-a30c-d1a84414a021\">\n",
              "      Upload widget is only available when the cell has been executed in the\n",
              "      current browser session. Please rerun this cell to enable.\n",
              "      </output>\n",
              "      <script>// Copyright 2017 Google LLC\n",
              "//\n",
              "// Licensed under the Apache License, Version 2.0 (the \"License\");\n",
              "// you may not use this file except in compliance with the License.\n",
              "// You may obtain a copy of the License at\n",
              "//\n",
              "//      http://www.apache.org/licenses/LICENSE-2.0\n",
              "//\n",
              "// Unless required by applicable law or agreed to in writing, software\n",
              "// distributed under the License is distributed on an \"AS IS\" BASIS,\n",
              "// WITHOUT WARRANTIES OR CONDITIONS OF ANY KIND, either express or implied.\n",
              "// See the License for the specific language governing permissions and\n",
              "// limitations under the License.\n",
              "\n",
              "/**\n",
              " * @fileoverview Helpers for google.colab Python module.\n",
              " */\n",
              "(function(scope) {\n",
              "function span(text, styleAttributes = {}) {\n",
              "  const element = document.createElement('span');\n",
              "  element.textContent = text;\n",
              "  for (const key of Object.keys(styleAttributes)) {\n",
              "    element.style[key] = styleAttributes[key];\n",
              "  }\n",
              "  return element;\n",
              "}\n",
              "\n",
              "// Max number of bytes which will be uploaded at a time.\n",
              "const MAX_PAYLOAD_SIZE = 100 * 1024;\n",
              "\n",
              "function _uploadFiles(inputId, outputId) {\n",
              "  const steps = uploadFilesStep(inputId, outputId);\n",
              "  const outputElement = document.getElementById(outputId);\n",
              "  // Cache steps on the outputElement to make it available for the next call\n",
              "  // to uploadFilesContinue from Python.\n",
              "  outputElement.steps = steps;\n",
              "\n",
              "  return _uploadFilesContinue(outputId);\n",
              "}\n",
              "\n",
              "// This is roughly an async generator (not supported in the browser yet),\n",
              "// where there are multiple asynchronous steps and the Python side is going\n",
              "// to poll for completion of each step.\n",
              "// This uses a Promise to block the python side on completion of each step,\n",
              "// then passes the result of the previous step as the input to the next step.\n",
              "function _uploadFilesContinue(outputId) {\n",
              "  const outputElement = document.getElementById(outputId);\n",
              "  const steps = outputElement.steps;\n",
              "\n",
              "  const next = steps.next(outputElement.lastPromiseValue);\n",
              "  return Promise.resolve(next.value.promise).then((value) => {\n",
              "    // Cache the last promise value to make it available to the next\n",
              "    // step of the generator.\n",
              "    outputElement.lastPromiseValue = value;\n",
              "    return next.value.response;\n",
              "  });\n",
              "}\n",
              "\n",
              "/**\n",
              " * Generator function which is called between each async step of the upload\n",
              " * process.\n",
              " * @param {string} inputId Element ID of the input file picker element.\n",
              " * @param {string} outputId Element ID of the output display.\n",
              " * @return {!Iterable<!Object>} Iterable of next steps.\n",
              " */\n",
              "function* uploadFilesStep(inputId, outputId) {\n",
              "  const inputElement = document.getElementById(inputId);\n",
              "  inputElement.disabled = false;\n",
              "\n",
              "  const outputElement = document.getElementById(outputId);\n",
              "  outputElement.innerHTML = '';\n",
              "\n",
              "  const pickedPromise = new Promise((resolve) => {\n",
              "    inputElement.addEventListener('change', (e) => {\n",
              "      resolve(e.target.files);\n",
              "    });\n",
              "  });\n",
              "\n",
              "  const cancel = document.createElement('button');\n",
              "  inputElement.parentElement.appendChild(cancel);\n",
              "  cancel.textContent = 'Cancel upload';\n",
              "  const cancelPromise = new Promise((resolve) => {\n",
              "    cancel.onclick = () => {\n",
              "      resolve(null);\n",
              "    };\n",
              "  });\n",
              "\n",
              "  // Wait for the user to pick the files.\n",
              "  const files = yield {\n",
              "    promise: Promise.race([pickedPromise, cancelPromise]),\n",
              "    response: {\n",
              "      action: 'starting',\n",
              "    }\n",
              "  };\n",
              "\n",
              "  cancel.remove();\n",
              "\n",
              "  // Disable the input element since further picks are not allowed.\n",
              "  inputElement.disabled = true;\n",
              "\n",
              "  if (!files) {\n",
              "    return {\n",
              "      response: {\n",
              "        action: 'complete',\n",
              "      }\n",
              "    };\n",
              "  }\n",
              "\n",
              "  for (const file of files) {\n",
              "    const li = document.createElement('li');\n",
              "    li.append(span(file.name, {fontWeight: 'bold'}));\n",
              "    li.append(span(\n",
              "        `(${file.type || 'n/a'}) - ${file.size} bytes, ` +\n",
              "        `last modified: ${\n",
              "            file.lastModifiedDate ? file.lastModifiedDate.toLocaleDateString() :\n",
              "                                    'n/a'} - `));\n",
              "    const percent = span('0% done');\n",
              "    li.appendChild(percent);\n",
              "\n",
              "    outputElement.appendChild(li);\n",
              "\n",
              "    const fileDataPromise = new Promise((resolve) => {\n",
              "      const reader = new FileReader();\n",
              "      reader.onload = (e) => {\n",
              "        resolve(e.target.result);\n",
              "      };\n",
              "      reader.readAsArrayBuffer(file);\n",
              "    });\n",
              "    // Wait for the data to be ready.\n",
              "    let fileData = yield {\n",
              "      promise: fileDataPromise,\n",
              "      response: {\n",
              "        action: 'continue',\n",
              "      }\n",
              "    };\n",
              "\n",
              "    // Use a chunked sending to avoid message size limits. See b/62115660.\n",
              "    let position = 0;\n",
              "    do {\n",
              "      const length = Math.min(fileData.byteLength - position, MAX_PAYLOAD_SIZE);\n",
              "      const chunk = new Uint8Array(fileData, position, length);\n",
              "      position += length;\n",
              "\n",
              "      const base64 = btoa(String.fromCharCode.apply(null, chunk));\n",
              "      yield {\n",
              "        response: {\n",
              "          action: 'append',\n",
              "          file: file.name,\n",
              "          data: base64,\n",
              "        },\n",
              "      };\n",
              "\n",
              "      let percentDone = fileData.byteLength === 0 ?\n",
              "          100 :\n",
              "          Math.round((position / fileData.byteLength) * 100);\n",
              "      percent.textContent = `${percentDone}% done`;\n",
              "\n",
              "    } while (position < fileData.byteLength);\n",
              "  }\n",
              "\n",
              "  // All done.\n",
              "  yield {\n",
              "    response: {\n",
              "      action: 'complete',\n",
              "    }\n",
              "  };\n",
              "}\n",
              "\n",
              "scope.google = scope.google || {};\n",
              "scope.google.colab = scope.google.colab || {};\n",
              "scope.google.colab._files = {\n",
              "  _uploadFiles,\n",
              "  _uploadFilesContinue,\n",
              "};\n",
              "})(self);\n",
              "</script> "
            ]
          },
          "metadata": {}
        },
        {
          "output_type": "stream",
          "name": "stdout",
          "text": [
            "Saving fake_job_postings.csv to fake_job_postings.csv\n"
          ]
        }
      ],
      "source": [
        "from google.colab import files\n",
        "uploaded = files.upload()"
      ]
    },
    {
      "cell_type": "code",
      "execution_count": null,
      "metadata": {
        "colab": {
          "base_uri": "https://localhost:8080/"
        },
        "id": "voDl_YBrFRL2",
        "outputId": "146c5e65-6216-4ed6-b2fb-efa6108ed20b"
      },
      "outputs": [
        {
          "output_type": "stream",
          "name": "stdout",
          "text": [
            "The data has 17880 rows and 18 columns\n"
          ]
        }
      ],
      "source": [
        "import pandas as pd\n",
        "import numpy as np\n",
        "import io\n",
        "import seaborn as sns\n",
        "import matplotlib.pyplot as plt\n",
        "# df = pd.read_csv(io.BytesIO(uploaded['fake_job_postings.csv']))\n",
        "df = pd.read_csv(\"fake_job_postings.csv\")\n",
        "print('The data has {} rows and {} columns'.format(df.shape[0],df.shape[1]))"
      ]
    },
    {
      "cell_type": "code",
      "execution_count": null,
      "metadata": {
        "colab": {
          "base_uri": "https://localhost:8080/",
          "height": 974
        },
        "id": "JkyWFQ_SFjPN",
        "outputId": "e2303f44-af16-43a0-a537-5d8311eeb5cc"
      },
      "outputs": [
        {
          "output_type": "execute_result",
          "data": {
            "text/plain": [
              "       job_id                                              title  \\\n",
              "0           1                                   Marketing Intern   \n",
              "1           2          Customer Service - Cloud Video Production   \n",
              "2           3            Commissioning Machinery Assistant (CMA)   \n",
              "3           4                  Account Executive - Washington DC   \n",
              "4           5                                Bill Review Manager   \n",
              "...       ...                                                ...   \n",
              "17875   17876                   Account Director - Distribution    \n",
              "17876   17877                                 Payroll Accountant   \n",
              "17877   17878  Project Cost Control Staff Engineer - Cost Con...   \n",
              "17878   17879                                   Graphic Designer   \n",
              "17879   17880                         Web Application Developers   \n",
              "\n",
              "                   location   department salary_range  \\\n",
              "0          US, NY, New York    Marketing          NaN   \n",
              "1            NZ, , Auckland      Success          NaN   \n",
              "2             US, IA, Wever          NaN          NaN   \n",
              "3        US, DC, Washington        Sales          NaN   \n",
              "4        US, FL, Fort Worth          NaN          NaN   \n",
              "...                     ...          ...          ...   \n",
              "17875       CA, ON, Toronto        Sales          NaN   \n",
              "17876  US, PA, Philadelphia   Accounting          NaN   \n",
              "17877       US, TX, Houston          NaN          NaN   \n",
              "17878         NG, LA, Lagos          NaN          NaN   \n",
              "17879     NZ, N, Wellington  Engineering          NaN   \n",
              "\n",
              "                                         company_profile  \\\n",
              "0      We're Food52, and we've created a groundbreaki...   \n",
              "1      90 Seconds, the worlds Cloud Video Production ...   \n",
              "2      Valor Services provides Workforce Solutions th...   \n",
              "3      Our passion for improving quality of life thro...   \n",
              "4      SpotSource Solutions LLC is a Global Human Cap...   \n",
              "...                                                  ...   \n",
              "17875  Vend is looking for some awesome new talent to...   \n",
              "17876  WebLinc is the e-commerce platform and service...   \n",
              "17877  We Provide Full Time Permanent Positions for m...   \n",
              "17878                                                NaN   \n",
              "17879  Vend is looking for some awesome new talent to...   \n",
              "\n",
              "                                             description  \\\n",
              "0      Food52, a fast-growing, James Beard Award-winn...   \n",
              "1      Organised - Focused - Vibrant - Awesome!Do you...   \n",
              "2      Our client, located in Houston, is actively se...   \n",
              "3      THE COMPANY: ESRI – Environmental Systems Rese...   \n",
              "4      JOB TITLE: Itemization Review ManagerLOCATION:...   \n",
              "...                                                  ...   \n",
              "17875  Just in case this is the first time you’ve vis...   \n",
              "17876  The Payroll Accountant will focus primarily on...   \n",
              "17877  Experienced Project Cost Control Staff Enginee...   \n",
              "17878  Nemsia Studios is looking for an experienced v...   \n",
              "17879  Who are we?Vend is an award winning web based ...   \n",
              "\n",
              "                                            requirements  \\\n",
              "0      Experience with content management systems a m...   \n",
              "1      What we expect from you:Your key responsibilit...   \n",
              "2      Implement pre-commissioning and commissioning ...   \n",
              "3      EDUCATION: Bachelor’s or Master’s in GIS, busi...   \n",
              "4      QUALIFICATIONS:RN license in the State of Texa...   \n",
              "...                                                  ...   \n",
              "17875  To ace this role you:Will eat comprehensive St...   \n",
              "17876  - B.A. or B.S. in Accounting- Desire to have f...   \n",
              "17877  At least 12 years professional experience.Abil...   \n",
              "17878  1. Must be fluent in the latest versions of Co...   \n",
              "17879  We want to hear from you if:You have an in-dep...   \n",
              "\n",
              "                                                benefits  telecommuting  \\\n",
              "0                                                    NaN              0   \n",
              "1      What you will get from usThrough being part of...              0   \n",
              "2                                                    NaN              0   \n",
              "3      Our culture is anything but corporate—we have ...              0   \n",
              "4                                  Full Benefits Offered              0   \n",
              "...                                                  ...            ...   \n",
              "17875  What can you expect from us?We have an open cu...              0   \n",
              "17876  Health &amp; WellnessMedical planPrescription ...              0   \n",
              "17877                                                NaN              0   \n",
              "17878  Competitive salary (compensation will be based...              0   \n",
              "17879                                                NaN              0   \n",
              "\n",
              "       has_company_logo  has_questions employment_type required_experience  \\\n",
              "0                     1              0           Other          Internship   \n",
              "1                     1              0       Full-time      Not Applicable   \n",
              "2                     1              0             NaN                 NaN   \n",
              "3                     1              0       Full-time    Mid-Senior level   \n",
              "4                     1              1       Full-time    Mid-Senior level   \n",
              "...                 ...            ...             ...                 ...   \n",
              "17875                 1              1       Full-time    Mid-Senior level   \n",
              "17876                 1              1       Full-time    Mid-Senior level   \n",
              "17877                 0              0       Full-time                 NaN   \n",
              "17878                 0              1        Contract      Not Applicable   \n",
              "17879                 1              1       Full-time    Mid-Senior level   \n",
              "\n",
              "      required_education                   industry              function  \\\n",
              "0                    NaN                        NaN             Marketing   \n",
              "1                    NaN  Marketing and Advertising      Customer Service   \n",
              "2                    NaN                        NaN                   NaN   \n",
              "3      Bachelor's Degree          Computer Software                 Sales   \n",
              "4      Bachelor's Degree     Hospital & Health Care  Health Care Provider   \n",
              "...                  ...                        ...                   ...   \n",
              "17875                NaN          Computer Software                 Sales   \n",
              "17876  Bachelor's Degree                   Internet   Accounting/Auditing   \n",
              "17877                NaN                        NaN                   NaN   \n",
              "17878       Professional             Graphic Design                Design   \n",
              "17879                NaN          Computer Software           Engineering   \n",
              "\n",
              "       fraudulent  \n",
              "0               0  \n",
              "1               0  \n",
              "2               0  \n",
              "3               0  \n",
              "4               0  \n",
              "...           ...  \n",
              "17875           0  \n",
              "17876           0  \n",
              "17877           0  \n",
              "17878           0  \n",
              "17879           0  \n",
              "\n",
              "[17880 rows x 18 columns]"
            ],
            "text/html": [
              "\n",
              "  <div id=\"df-7f81056b-3902-4999-85d9-c6d9d9d0435e\">\n",
              "    <div class=\"colab-df-container\">\n",
              "      <div>\n",
              "<style scoped>\n",
              "    .dataframe tbody tr th:only-of-type {\n",
              "        vertical-align: middle;\n",
              "    }\n",
              "\n",
              "    .dataframe tbody tr th {\n",
              "        vertical-align: top;\n",
              "    }\n",
              "\n",
              "    .dataframe thead th {\n",
              "        text-align: right;\n",
              "    }\n",
              "</style>\n",
              "<table border=\"1\" class=\"dataframe\">\n",
              "  <thead>\n",
              "    <tr style=\"text-align: right;\">\n",
              "      <th></th>\n",
              "      <th>job_id</th>\n",
              "      <th>title</th>\n",
              "      <th>location</th>\n",
              "      <th>department</th>\n",
              "      <th>salary_range</th>\n",
              "      <th>company_profile</th>\n",
              "      <th>description</th>\n",
              "      <th>requirements</th>\n",
              "      <th>benefits</th>\n",
              "      <th>telecommuting</th>\n",
              "      <th>has_company_logo</th>\n",
              "      <th>has_questions</th>\n",
              "      <th>employment_type</th>\n",
              "      <th>required_experience</th>\n",
              "      <th>required_education</th>\n",
              "      <th>industry</th>\n",
              "      <th>function</th>\n",
              "      <th>fraudulent</th>\n",
              "    </tr>\n",
              "  </thead>\n",
              "  <tbody>\n",
              "    <tr>\n",
              "      <th>0</th>\n",
              "      <td>1</td>\n",
              "      <td>Marketing Intern</td>\n",
              "      <td>US, NY, New York</td>\n",
              "      <td>Marketing</td>\n",
              "      <td>NaN</td>\n",
              "      <td>We're Food52, and we've created a groundbreaki...</td>\n",
              "      <td>Food52, a fast-growing, James Beard Award-winn...</td>\n",
              "      <td>Experience with content management systems a m...</td>\n",
              "      <td>NaN</td>\n",
              "      <td>0</td>\n",
              "      <td>1</td>\n",
              "      <td>0</td>\n",
              "      <td>Other</td>\n",
              "      <td>Internship</td>\n",
              "      <td>NaN</td>\n",
              "      <td>NaN</td>\n",
              "      <td>Marketing</td>\n",
              "      <td>0</td>\n",
              "    </tr>\n",
              "    <tr>\n",
              "      <th>1</th>\n",
              "      <td>2</td>\n",
              "      <td>Customer Service - Cloud Video Production</td>\n",
              "      <td>NZ, , Auckland</td>\n",
              "      <td>Success</td>\n",
              "      <td>NaN</td>\n",
              "      <td>90 Seconds, the worlds Cloud Video Production ...</td>\n",
              "      <td>Organised - Focused - Vibrant - Awesome!Do you...</td>\n",
              "      <td>What we expect from you:Your key responsibilit...</td>\n",
              "      <td>What you will get from usThrough being part of...</td>\n",
              "      <td>0</td>\n",
              "      <td>1</td>\n",
              "      <td>0</td>\n",
              "      <td>Full-time</td>\n",
              "      <td>Not Applicable</td>\n",
              "      <td>NaN</td>\n",
              "      <td>Marketing and Advertising</td>\n",
              "      <td>Customer Service</td>\n",
              "      <td>0</td>\n",
              "    </tr>\n",
              "    <tr>\n",
              "      <th>2</th>\n",
              "      <td>3</td>\n",
              "      <td>Commissioning Machinery Assistant (CMA)</td>\n",
              "      <td>US, IA, Wever</td>\n",
              "      <td>NaN</td>\n",
              "      <td>NaN</td>\n",
              "      <td>Valor Services provides Workforce Solutions th...</td>\n",
              "      <td>Our client, located in Houston, is actively se...</td>\n",
              "      <td>Implement pre-commissioning and commissioning ...</td>\n",
              "      <td>NaN</td>\n",
              "      <td>0</td>\n",
              "      <td>1</td>\n",
              "      <td>0</td>\n",
              "      <td>NaN</td>\n",
              "      <td>NaN</td>\n",
              "      <td>NaN</td>\n",
              "      <td>NaN</td>\n",
              "      <td>NaN</td>\n",
              "      <td>0</td>\n",
              "    </tr>\n",
              "    <tr>\n",
              "      <th>3</th>\n",
              "      <td>4</td>\n",
              "      <td>Account Executive - Washington DC</td>\n",
              "      <td>US, DC, Washington</td>\n",
              "      <td>Sales</td>\n",
              "      <td>NaN</td>\n",
              "      <td>Our passion for improving quality of life thro...</td>\n",
              "      <td>THE COMPANY: ESRI – Environmental Systems Rese...</td>\n",
              "      <td>EDUCATION: Bachelor’s or Master’s in GIS, busi...</td>\n",
              "      <td>Our culture is anything but corporate—we have ...</td>\n",
              "      <td>0</td>\n",
              "      <td>1</td>\n",
              "      <td>0</td>\n",
              "      <td>Full-time</td>\n",
              "      <td>Mid-Senior level</td>\n",
              "      <td>Bachelor's Degree</td>\n",
              "      <td>Computer Software</td>\n",
              "      <td>Sales</td>\n",
              "      <td>0</td>\n",
              "    </tr>\n",
              "    <tr>\n",
              "      <th>4</th>\n",
              "      <td>5</td>\n",
              "      <td>Bill Review Manager</td>\n",
              "      <td>US, FL, Fort Worth</td>\n",
              "      <td>NaN</td>\n",
              "      <td>NaN</td>\n",
              "      <td>SpotSource Solutions LLC is a Global Human Cap...</td>\n",
              "      <td>JOB TITLE: Itemization Review ManagerLOCATION:...</td>\n",
              "      <td>QUALIFICATIONS:RN license in the State of Texa...</td>\n",
              "      <td>Full Benefits Offered</td>\n",
              "      <td>0</td>\n",
              "      <td>1</td>\n",
              "      <td>1</td>\n",
              "      <td>Full-time</td>\n",
              "      <td>Mid-Senior level</td>\n",
              "      <td>Bachelor's Degree</td>\n",
              "      <td>Hospital &amp; Health Care</td>\n",
              "      <td>Health Care Provider</td>\n",
              "      <td>0</td>\n",
              "    </tr>\n",
              "    <tr>\n",
              "      <th>...</th>\n",
              "      <td>...</td>\n",
              "      <td>...</td>\n",
              "      <td>...</td>\n",
              "      <td>...</td>\n",
              "      <td>...</td>\n",
              "      <td>...</td>\n",
              "      <td>...</td>\n",
              "      <td>...</td>\n",
              "      <td>...</td>\n",
              "      <td>...</td>\n",
              "      <td>...</td>\n",
              "      <td>...</td>\n",
              "      <td>...</td>\n",
              "      <td>...</td>\n",
              "      <td>...</td>\n",
              "      <td>...</td>\n",
              "      <td>...</td>\n",
              "      <td>...</td>\n",
              "    </tr>\n",
              "    <tr>\n",
              "      <th>17875</th>\n",
              "      <td>17876</td>\n",
              "      <td>Account Director - Distribution</td>\n",
              "      <td>CA, ON, Toronto</td>\n",
              "      <td>Sales</td>\n",
              "      <td>NaN</td>\n",
              "      <td>Vend is looking for some awesome new talent to...</td>\n",
              "      <td>Just in case this is the first time you’ve vis...</td>\n",
              "      <td>To ace this role you:Will eat comprehensive St...</td>\n",
              "      <td>What can you expect from us?We have an open cu...</td>\n",
              "      <td>0</td>\n",
              "      <td>1</td>\n",
              "      <td>1</td>\n",
              "      <td>Full-time</td>\n",
              "      <td>Mid-Senior level</td>\n",
              "      <td>NaN</td>\n",
              "      <td>Computer Software</td>\n",
              "      <td>Sales</td>\n",
              "      <td>0</td>\n",
              "    </tr>\n",
              "    <tr>\n",
              "      <th>17876</th>\n",
              "      <td>17877</td>\n",
              "      <td>Payroll Accountant</td>\n",
              "      <td>US, PA, Philadelphia</td>\n",
              "      <td>Accounting</td>\n",
              "      <td>NaN</td>\n",
              "      <td>WebLinc is the e-commerce platform and service...</td>\n",
              "      <td>The Payroll Accountant will focus primarily on...</td>\n",
              "      <td>- B.A. or B.S. in Accounting- Desire to have f...</td>\n",
              "      <td>Health &amp;amp; WellnessMedical planPrescription ...</td>\n",
              "      <td>0</td>\n",
              "      <td>1</td>\n",
              "      <td>1</td>\n",
              "      <td>Full-time</td>\n",
              "      <td>Mid-Senior level</td>\n",
              "      <td>Bachelor's Degree</td>\n",
              "      <td>Internet</td>\n",
              "      <td>Accounting/Auditing</td>\n",
              "      <td>0</td>\n",
              "    </tr>\n",
              "    <tr>\n",
              "      <th>17877</th>\n",
              "      <td>17878</td>\n",
              "      <td>Project Cost Control Staff Engineer - Cost Con...</td>\n",
              "      <td>US, TX, Houston</td>\n",
              "      <td>NaN</td>\n",
              "      <td>NaN</td>\n",
              "      <td>We Provide Full Time Permanent Positions for m...</td>\n",
              "      <td>Experienced Project Cost Control Staff Enginee...</td>\n",
              "      <td>At least 12 years professional experience.Abil...</td>\n",
              "      <td>NaN</td>\n",
              "      <td>0</td>\n",
              "      <td>0</td>\n",
              "      <td>0</td>\n",
              "      <td>Full-time</td>\n",
              "      <td>NaN</td>\n",
              "      <td>NaN</td>\n",
              "      <td>NaN</td>\n",
              "      <td>NaN</td>\n",
              "      <td>0</td>\n",
              "    </tr>\n",
              "    <tr>\n",
              "      <th>17878</th>\n",
              "      <td>17879</td>\n",
              "      <td>Graphic Designer</td>\n",
              "      <td>NG, LA, Lagos</td>\n",
              "      <td>NaN</td>\n",
              "      <td>NaN</td>\n",
              "      <td>NaN</td>\n",
              "      <td>Nemsia Studios is looking for an experienced v...</td>\n",
              "      <td>1. Must be fluent in the latest versions of Co...</td>\n",
              "      <td>Competitive salary (compensation will be based...</td>\n",
              "      <td>0</td>\n",
              "      <td>0</td>\n",
              "      <td>1</td>\n",
              "      <td>Contract</td>\n",
              "      <td>Not Applicable</td>\n",
              "      <td>Professional</td>\n",
              "      <td>Graphic Design</td>\n",
              "      <td>Design</td>\n",
              "      <td>0</td>\n",
              "    </tr>\n",
              "    <tr>\n",
              "      <th>17879</th>\n",
              "      <td>17880</td>\n",
              "      <td>Web Application Developers</td>\n",
              "      <td>NZ, N, Wellington</td>\n",
              "      <td>Engineering</td>\n",
              "      <td>NaN</td>\n",
              "      <td>Vend is looking for some awesome new talent to...</td>\n",
              "      <td>Who are we?Vend is an award winning web based ...</td>\n",
              "      <td>We want to hear from you if:You have an in-dep...</td>\n",
              "      <td>NaN</td>\n",
              "      <td>0</td>\n",
              "      <td>1</td>\n",
              "      <td>1</td>\n",
              "      <td>Full-time</td>\n",
              "      <td>Mid-Senior level</td>\n",
              "      <td>NaN</td>\n",
              "      <td>Computer Software</td>\n",
              "      <td>Engineering</td>\n",
              "      <td>0</td>\n",
              "    </tr>\n",
              "  </tbody>\n",
              "</table>\n",
              "<p>17880 rows × 18 columns</p>\n",
              "</div>\n",
              "      <button class=\"colab-df-convert\" onclick=\"convertToInteractive('df-7f81056b-3902-4999-85d9-c6d9d9d0435e')\"\n",
              "              title=\"Convert this dataframe to an interactive table.\"\n",
              "              style=\"display:none;\">\n",
              "        \n",
              "  <svg xmlns=\"http://www.w3.org/2000/svg\" height=\"24px\"viewBox=\"0 0 24 24\"\n",
              "       width=\"24px\">\n",
              "    <path d=\"M0 0h24v24H0V0z\" fill=\"none\"/>\n",
              "    <path d=\"M18.56 5.44l.94 2.06.94-2.06 2.06-.94-2.06-.94-.94-2.06-.94 2.06-2.06.94zm-11 1L8.5 8.5l.94-2.06 2.06-.94-2.06-.94L8.5 2.5l-.94 2.06-2.06.94zm10 10l.94 2.06.94-2.06 2.06-.94-2.06-.94-.94-2.06-.94 2.06-2.06.94z\"/><path d=\"M17.41 7.96l-1.37-1.37c-.4-.4-.92-.59-1.43-.59-.52 0-1.04.2-1.43.59L10.3 9.45l-7.72 7.72c-.78.78-.78 2.05 0 2.83L4 21.41c.39.39.9.59 1.41.59.51 0 1.02-.2 1.41-.59l7.78-7.78 2.81-2.81c.8-.78.8-2.07 0-2.86zM5.41 20L4 18.59l7.72-7.72 1.47 1.35L5.41 20z\"/>\n",
              "  </svg>\n",
              "      </button>\n",
              "      \n",
              "  <style>\n",
              "    .colab-df-container {\n",
              "      display:flex;\n",
              "      flex-wrap:wrap;\n",
              "      gap: 12px;\n",
              "    }\n",
              "\n",
              "    .colab-df-convert {\n",
              "      background-color: #E8F0FE;\n",
              "      border: none;\n",
              "      border-radius: 50%;\n",
              "      cursor: pointer;\n",
              "      display: none;\n",
              "      fill: #1967D2;\n",
              "      height: 32px;\n",
              "      padding: 0 0 0 0;\n",
              "      width: 32px;\n",
              "    }\n",
              "\n",
              "    .colab-df-convert:hover {\n",
              "      background-color: #E2EBFA;\n",
              "      box-shadow: 0px 1px 2px rgba(60, 64, 67, 0.3), 0px 1px 3px 1px rgba(60, 64, 67, 0.15);\n",
              "      fill: #174EA6;\n",
              "    }\n",
              "\n",
              "    [theme=dark] .colab-df-convert {\n",
              "      background-color: #3B4455;\n",
              "      fill: #D2E3FC;\n",
              "    }\n",
              "\n",
              "    [theme=dark] .colab-df-convert:hover {\n",
              "      background-color: #434B5C;\n",
              "      box-shadow: 0px 1px 3px 1px rgba(0, 0, 0, 0.15);\n",
              "      filter: drop-shadow(0px 1px 2px rgba(0, 0, 0, 0.3));\n",
              "      fill: #FFFFFF;\n",
              "    }\n",
              "  </style>\n",
              "\n",
              "      <script>\n",
              "        const buttonEl =\n",
              "          document.querySelector('#df-7f81056b-3902-4999-85d9-c6d9d9d0435e button.colab-df-convert');\n",
              "        buttonEl.style.display =\n",
              "          google.colab.kernel.accessAllowed ? 'block' : 'none';\n",
              "\n",
              "        async function convertToInteractive(key) {\n",
              "          const element = document.querySelector('#df-7f81056b-3902-4999-85d9-c6d9d9d0435e');\n",
              "          const dataTable =\n",
              "            await google.colab.kernel.invokeFunction('convertToInteractive',\n",
              "                                                     [key], {});\n",
              "          if (!dataTable) return;\n",
              "\n",
              "          const docLinkHtml = 'Like what you see? Visit the ' +\n",
              "            '<a target=\"_blank\" href=https://colab.research.google.com/notebooks/data_table.ipynb>data table notebook</a>'\n",
              "            + ' to learn more about interactive tables.';\n",
              "          element.innerHTML = '';\n",
              "          dataTable['output_type'] = 'display_data';\n",
              "          await google.colab.output.renderOutput(dataTable, element);\n",
              "          const docLink = document.createElement('div');\n",
              "          docLink.innerHTML = docLinkHtml;\n",
              "          element.appendChild(docLink);\n",
              "        }\n",
              "      </script>\n",
              "    </div>\n",
              "  </div>\n",
              "  "
            ]
          },
          "metadata": {},
          "execution_count": 3
        }
      ],
      "source": [
        "df"
      ]
    },
    {
      "cell_type": "code",
      "execution_count": null,
      "metadata": {
        "colab": {
          "base_uri": "https://localhost:8080/"
        },
        "id": "h5cnMFcgFo6K",
        "outputId": "6bd19eac-1d7d-4d4e-c8e7-059639f877e6"
      },
      "outputs": [
        {
          "output_type": "execute_result",
          "data": {
            "text/plain": [
              "Index(['job_id', 'title', 'location', 'department', 'salary_range',\n",
              "       'company_profile', 'description', 'requirements', 'benefits',\n",
              "       'telecommuting', 'has_company_logo', 'has_questions', 'employment_type',\n",
              "       'required_experience', 'required_education', 'industry', 'function',\n",
              "       'fraudulent'],\n",
              "      dtype='object')"
            ]
          },
          "metadata": {},
          "execution_count": 4
        }
      ],
      "source": [
        "df.columns"
      ]
    },
    {
      "cell_type": "code",
      "execution_count": null,
      "metadata": {
        "colab": {
          "base_uri": "https://localhost:8080/"
        },
        "id": "-XljZQuuFtI2",
        "outputId": "1ce38248-c14f-49af-8fe4-852a999e3da9"
      },
      "outputs": [
        {
          "output_type": "execute_result",
          "data": {
            "text/plain": [
              "job_id                     0\n",
              "title                      0\n",
              "location                 346\n",
              "department             11547\n",
              "salary_range           15012\n",
              "company_profile         3308\n",
              "description                1\n",
              "requirements            2695\n",
              "benefits                7210\n",
              "telecommuting              0\n",
              "has_company_logo           0\n",
              "has_questions              0\n",
              "employment_type         3471\n",
              "required_experience     7050\n",
              "required_education      8105\n",
              "industry                4903\n",
              "function                6455\n",
              "fraudulent                 0\n",
              "dtype: int64"
            ]
          },
          "metadata": {},
          "execution_count": 5
        }
      ],
      "source": [
        "df.isnull().sum()"
      ]
    },
    {
      "cell_type": "code",
      "execution_count": null,
      "metadata": {
        "colab": {
          "base_uri": "https://localhost:8080/"
        },
        "id": "imYPkrTmFw5O",
        "outputId": "eea16003-45b0-4e49-b9bc-5c7c07236e31"
      },
      "outputs": [
        {
          "output_type": "stream",
          "name": "stdout",
          "text": [
            "The types of data are:\n",
            "<class 'pandas.core.frame.DataFrame'>\n",
            "RangeIndex: 17880 entries, 0 to 17879\n",
            "Data columns (total 18 columns):\n",
            " #   Column               Non-Null Count  Dtype \n",
            "---  ------               --------------  ----- \n",
            " 0   job_id               17880 non-null  int64 \n",
            " 1   title                17880 non-null  object\n",
            " 2   location             17534 non-null  object\n",
            " 3   department           6333 non-null   object\n",
            " 4   salary_range         2868 non-null   object\n",
            " 5   company_profile      14572 non-null  object\n",
            " 6   description          17879 non-null  object\n",
            " 7   requirements         15185 non-null  object\n",
            " 8   benefits             10670 non-null  object\n",
            " 9   telecommuting        17880 non-null  int64 \n",
            " 10  has_company_logo     17880 non-null  int64 \n",
            " 11  has_questions        17880 non-null  int64 \n",
            " 12  employment_type      14409 non-null  object\n",
            " 13  required_experience  10830 non-null  object\n",
            " 14  required_education   9775 non-null   object\n",
            " 15  industry             12977 non-null  object\n",
            " 16  function             11425 non-null  object\n",
            " 17  fraudulent           17880 non-null  int64 \n",
            "dtypes: int64(5), object(13)\n",
            "memory usage: 2.5+ MB\n",
            "None\n"
          ]
        }
      ],
      "source": [
        "print(\"The types of data are:\")\n",
        "print(df.info())"
      ]
    },
    {
      "cell_type": "code",
      "execution_count": null,
      "metadata": {
        "id": "BOhcB6P5IRp8"
      },
      "outputs": [],
      "source": [
        "# Handle missing values\n",
        "df.fillna('', inplace=True)"
      ]
    },
    {
      "cell_type": "code",
      "execution_count": null,
      "metadata": {
        "colab": {
          "base_uri": "https://localhost:8080/"
        },
        "id": "_oGfSwawJWHz",
        "outputId": "c8a442b8-745f-4c66-9af5-66739ef7c2bc"
      },
      "outputs": [
        {
          "output_type": "execute_result",
          "data": {
            "text/plain": [
              "0    17014\n",
              "1      866\n",
              "Name: fraudulent, dtype: int64"
            ]
          },
          "metadata": {},
          "execution_count": 8
        }
      ],
      "source": [
        "#Calculating items in fradulent column\n",
        "df[\"fraudulent\"].value_counts()"
      ]
    },
    {
      "cell_type": "code",
      "execution_count": null,
      "metadata": {
        "colab": {
          "base_uri": "https://localhost:8080/",
          "height": 264
        },
        "id": "PgwF7zL8MxdX",
        "outputId": "1f803129-9a51-4eab-c4b3-15b011de5b21"
      },
      "outputs": [
        {
          "output_type": "display_data",
          "data": {
            "text/plain": [
              "<Figure size 432x288 with 1 Axes>"
            ],
            "image/png": "[encoded data removed]"
          },
          "metadata": {}
        }
      ],
      "source": [
        "# print(df['fraudulent'].value_counts(normalize=True) * 100)\n",
        "data =df['fraudulent'].value_counts(normalize=True) * 100\n",
        "plt.title(\"Fradulent and Non-Fradulent\")\n",
        "plt.pie(data,labels=[\"non-fradulent\",\"fradulent\"], colors = sns.color_palette(\"Set3\"), autopct='%.0f%%')\n",
        "plt.show()"
      ]
    },
    {
      "cell_type": "code",
      "execution_count": null,
      "metadata": {
        "colab": {
          "base_uri": "https://localhost:8080/",
          "height": 297
        },
        "id": "WuKPEEggQDss",
        "outputId": "f8e54023-8df1-42bd-d91f-495e49609fbc"
      },
      "outputs": [
        {
          "output_type": "execute_result",
          "data": {
            "text/plain": [
              "<Axes: xlabel='fraudulent', ylabel='count'>"
            ]
          },
          "metadata": {},
          "execution_count": 10
        },
        {
          "output_type": "display_data",
          "data": {
            "text/plain": [
              "<Figure size 432x288 with 1 Axes>"
            ],
            "image/png": "[encoded data removed]"
          },
          "metadata": {
            "needs_background": "light"
          }
        }
      ],
      "source": [
        "sns.countplot(x=\"fraudulent\", data=df)"
      ]
    },
    {
      "cell_type": "code",
      "execution_count": null,
      "metadata": {
        "colab": {
          "base_uri": "https://localhost:8080/",
          "height": 500
        },
        "id": "yXNcBpa8PDq9",
        "outputId": "9bf33d0e-3382-4243-b404-d7672d30e95c"
      },
      "outputs": [
        {
          "output_type": "display_data",
          "data": {
            "text/plain": [
              "<Figure size 720x576 with 2 Axes>"
            ],
            "image/png": "[encoded data removed]"
          },
          "metadata": {
            "needs_background": "light"
          }
        }
      ],
      "source": [
        "plt.figure(figsize=(10, 8))\n",
        "sns.heatmap(data=df.corr(), annot=True)\n",
        "plt.title(\"Correlation Matrix for the Dataset\")\n",
        "plt.show()"
      ]
    },
    {
      "cell_type": "code",
      "execution_count": null,
      "metadata": {
        "colab": {
          "base_uri": "https://localhost:8080/",
          "height": 337
        },
        "id": "OgOOm0_QU6sG",
        "outputId": "f60f5507-c3f9-4a46-a5c2-fed3e6f7bc18"
      },
      "outputs": [
        {
          "output_type": "execute_result",
          "data": {
            "text/plain": [
              "                                       title  \\\n",
              "0                           Marketing Intern   \n",
              "1  Customer Service - Cloud Video Production   \n",
              "2    Commissioning Machinery Assistant (CMA)   \n",
              "3          Account Executive - Washington DC   \n",
              "4                        Bill Review Manager   \n",
              "\n",
              "                                     company_profile  \\\n",
              "0  We're Food52, and we've created a groundbreaki...   \n",
              "1  90 Seconds, the worlds Cloud Video Production ...   \n",
              "2  Valor Services provides Workforce Solutions th...   \n",
              "3  Our passion for improving quality of life thro...   \n",
              "4  SpotSource Solutions LLC is a Global Human Cap...   \n",
              "\n",
              "                                         description  \\\n",
              "0  Food52, a fast-growing, James Beard Award-winn...   \n",
              "1  Organised - Focused - Vibrant - Awesome!Do you...   \n",
              "2  Our client, located in Houston, is actively se...   \n",
              "3  THE COMPANY: ESRI – Environmental Systems Rese...   \n",
              "4  JOB TITLE: Itemization Review ManagerLOCATION:...   \n",
              "\n",
              "                                        requirements  \\\n",
              "0  Experience with content management systems a m...   \n",
              "1  What we expect from you:Your key responsibilit...   \n",
              "2  Implement pre-commissioning and commissioning ...   \n",
              "3  EDUCATION: Bachelor’s or Master’s in GIS, busi...   \n",
              "4  QUALIFICATIONS:RN license in the State of Texa...   \n",
              "\n",
              "                                            benefits  fraudulent  \n",
              "0                                                              0  \n",
              "1  What you will get from usThrough being part of...           0  \n",
              "2                                                              0  \n",
              "3  Our culture is anything but corporate—we have ...           0  \n",
              "4                              Full Benefits Offered           0  "
            ],
            "text/html": [
              "\n",
              "  <div id=\"df-c2dc90b1-bd88-47dc-9cc2-58dcfbc4346a\">\n",
              "    <div class=\"colab-df-container\">\n",
              "      <div>\n",
              "<style scoped>\n",
              "    .dataframe tbody tr th:only-of-type {\n",
              "        vertical-align: middle;\n",
              "    }\n",
              "\n",
              "    .dataframe tbody tr th {\n",
              "        vertical-align: top;\n",
              "    }\n",
              "\n",
              "    .dataframe thead th {\n",
              "        text-align: right;\n",
              "    }\n",
              "</style>\n",
              "<table border=\"1\" class=\"dataframe\">\n",
              "  <thead>\n",
              "    <tr style=\"text-align: right;\">\n",
              "      <th></th>\n",
              "      <th>title</th>\n",
              "      <th>company_profile</th>\n",
              "      <th>description</th>\n",
              "      <th>requirements</th>\n",
              "      <th>benefits</th>\n",
              "      <th>fraudulent</th>\n",
              "    </tr>\n",
              "  </thead>\n",
              "  <tbody>\n",
              "    <tr>\n",
              "      <th>0</th>\n",
              "      <td>Marketing Intern</td>\n",
              "      <td>We're Food52, and we've created a groundbreaki...</td>\n",
              "      <td>Food52, a fast-growing, James Beard Award-winn...</td>\n",
              "      <td>Experience with content management systems a m...</td>\n",
              "      <td></td>\n",
              "      <td>0</td>\n",
              "    </tr>\n",
              "    <tr>\n",
              "      <th>1</th>\n",
              "      <td>Customer Service - Cloud Video Production</td>\n",
              "      <td>90 Seconds, the worlds Cloud Video Production ...</td>\n",
              "      <td>Organised - Focused - Vibrant - Awesome!Do you...</td>\n",
              "      <td>What we expect from you:Your key responsibilit...</td>\n",
              "      <td>What you will get from usThrough being part of...</td>\n",
              "      <td>0</td>\n",
              "    </tr>\n",
              "    <tr>\n",
              "      <th>2</th>\n",
              "      <td>Commissioning Machinery Assistant (CMA)</td>\n",
              "      <td>Valor Services provides Workforce Solutions th...</td>\n",
              "      <td>Our client, located in Houston, is actively se...</td>\n",
              "      <td>Implement pre-commissioning and commissioning ...</td>\n",
              "      <td></td>\n",
              "      <td>0</td>\n",
              "    </tr>\n",
              "    <tr>\n",
              "      <th>3</th>\n",
              "      <td>Account Executive - Washington DC</td>\n",
              "      <td>Our passion for improving quality of life thro...</td>\n",
              "      <td>THE COMPANY: ESRI – Environmental Systems Rese...</td>\n",
              "      <td>EDUCATION: Bachelor’s or Master’s in GIS, busi...</td>\n",
              "      <td>Our culture is anything but corporate—we have ...</td>\n",
              "      <td>0</td>\n",
              "    </tr>\n",
              "    <tr>\n",
              "      <th>4</th>\n",
              "      <td>Bill Review Manager</td>\n",
              "      <td>SpotSource Solutions LLC is a Global Human Cap...</td>\n",
              "      <td>JOB TITLE: Itemization Review ManagerLOCATION:...</td>\n",
              "      <td>QUALIFICATIONS:RN license in the State of Texa...</td>\n",
              "      <td>Full Benefits Offered</td>\n",
              "      <td>0</td>\n",
              "    </tr>\n",
              "  </tbody>\n",
              "</table>\n",
              "</div>\n",
              "      <button class=\"colab-df-convert\" onclick=\"convertToInteractive('df-c2dc90b1-bd88-47dc-9cc2-58dcfbc4346a')\"\n",
              "              title=\"Convert this dataframe to an interactive table.\"\n",
              "              style=\"display:none;\">\n",
              "        \n",
              "  <svg xmlns=\"http://www.w3.org/2000/svg\" height=\"24px\"viewBox=\"0 0 24 24\"\n",
              "       width=\"24px\">\n",
              "    <path d=\"M0 0h24v24H0V0z\" fill=\"none\"/>\n",
              "    <path d=\"M18.56 5.44l.94 2.06.94-2.06 2.06-.94-2.06-.94-.94-2.06-.94 2.06-2.06.94zm-11 1L8.5 8.5l.94-2.06 2.06-.94-2.06-.94L8.5 2.5l-.94 2.06-2.06.94zm10 10l.94 2.06.94-2.06 2.06-.94-2.06-.94-.94-2.06-.94 2.06-2.06.94z\"/><path d=\"M17.41 7.96l-1.37-1.37c-.4-.4-.92-.59-1.43-.59-.52 0-1.04.2-1.43.59L10.3 9.45l-7.72 7.72c-.78.78-.78 2.05 0 2.83L4 21.41c.39.39.9.59 1.41.59.51 0 1.02-.2 1.41-.59l7.78-7.78 2.81-2.81c.8-.78.8-2.07 0-2.86zM5.41 20L4 18.59l7.72-7.72 1.47 1.35L5.41 20z\"/>\n",
              "  </svg>\n",
              "      </button>\n",
              "      \n",
              "  <style>\n",
              "    .colab-df-container {\n",
              "      display:flex;\n",
              "      flex-wrap:wrap;\n",
              "      gap: 12px;\n",
              "    }\n",
              "\n",
              "    .colab-df-convert {\n",
              "      background-color: #E8F0FE;\n",
              "      border: none;\n",
              "      border-radius: 50%;\n",
              "      cursor: pointer;\n",
              "      display: none;\n",
              "      fill: #1967D2;\n",
              "      height: 32px;\n",
              "      padding: 0 0 0 0;\n",
              "      width: 32px;\n",
              "    }\n",
              "\n",
              "    .colab-df-convert:hover {\n",
              "      background-color: #E2EBFA;\n",
              "      box-shadow: 0px 1px 2px rgba(60, 64, 67, 0.3), 0px 1px 3px 1px rgba(60, 64, 67, 0.15);\n",
              "      fill: #174EA6;\n",
              "    }\n",
              "\n",
              "    [theme=dark] .colab-df-convert {\n",
              "      background-color: #3B4455;\n",
              "      fill: #D2E3FC;\n",
              "    }\n",
              "\n",
              "    [theme=dark] .colab-df-convert:hover {\n",
              "      background-color: #434B5C;\n",
              "      box-shadow: 0px 1px 3px 1px rgba(0, 0, 0, 0.15);\n",
              "      filter: drop-shadow(0px 1px 2px rgba(0, 0, 0, 0.3));\n",
              "      fill: #FFFFFF;\n",
              "    }\n",
              "  </style>\n",
              "\n",
              "      <script>\n",
              "        const buttonEl =\n",
              "          document.querySelector('#df-c2dc90b1-bd88-47dc-9cc2-58dcfbc4346a button.colab-df-convert');\n",
              "        buttonEl.style.display =\n",
              "          google.colab.kernel.accessAllowed ? 'block' : 'none';\n",
              "\n",
              "        async function convertToInteractive(key) {\n",
              "          const element = document.querySelector('#df-c2dc90b1-bd88-47dc-9cc2-58dcfbc4346a');\n",
              "          const dataTable =\n",
              "            await google.colab.kernel.invokeFunction('convertToInteractive',\n",
              "                                                     [key], {});\n",
              "          if (!dataTable) return;\n",
              "\n",
              "          const docLinkHtml = 'Like what you see? Visit the ' +\n",
              "            '<a target=\"_blank\" href=https://colab.research.google.com/notebooks/data_table.ipynb>data table notebook</a>'\n",
              "            + ' to learn more about interactive tables.';\n",
              "          element.innerHTML = '';\n",
              "          dataTable['output_type'] = 'display_data';\n",
              "          await google.colab.output.renderOutput(dataTable, element);\n",
              "          const docLink = document.createElement('div');\n",
              "          docLink.innerHTML = docLinkHtml;\n",
              "          element.appendChild(docLink);\n",
              "        }\n",
              "      </script>\n",
              "    </div>\n",
              "  </div>\n",
              "  "
            ]
          },
          "metadata": {},
          "execution_count": 12
        }
      ],
      "source": [
        "column_with_text = df[[\"title\", \"company_profile\", \"description\", \"requirements\", \"benefits\",\"fraudulent\"]]\n",
        "column_with_text = column_with_text.fillna(' ')\n",
        "column_with_text.head()"
      ]
    },
    {
      "cell_type": "code",
      "execution_count": null,
      "metadata": {
        "id": "GQBY9zLYXECN"
      },
      "outputs": [],
      "source": [
        "# Remove unnecessary columns\n",
        "df = df.drop(['job_id', 'title', 'location', 'department', 'salary_range', 'company_profile', 'description', 'requirements', 'benefits'], axis=1)"
      ]
    },
    {
      "cell_type": "code",
      "source": [
        "df.head()"
      ],
      "metadata": {
        "colab": {
          "base_uri": "https://localhost:8080/",
          "height": 285
        },
        "id": "MaBZ0aNgZT6I",
        "outputId": "dd83b4d6-320c-4ac1-a8fc-a0ed65d4e43d"
      },
      "execution_count": null,
      "outputs": [
        {
          "output_type": "execute_result",
          "data": {
            "text/plain": [
              "   telecommuting  has_company_logo  has_questions employment_type  \\\n",
              "0              0                 1              0           Other   \n",
              "1              0                 1              0       Full-time   \n",
              "2              0                 1              0                   \n",
              "3              0                 1              0       Full-time   \n",
              "4              0                 1              1       Full-time   \n",
              "\n",
              "  required_experience required_education                   industry  \\\n",
              "0          Internship                                                 \n",
              "1      Not Applicable                     Marketing and Advertising   \n",
              "2                                                                     \n",
              "3    Mid-Senior level  Bachelor's Degree          Computer Software   \n",
              "4    Mid-Senior level  Bachelor's Degree     Hospital & Health Care   \n",
              "\n",
              "               function  fraudulent  \n",
              "0             Marketing           0  \n",
              "1      Customer Service           0  \n",
              "2                                 0  \n",
              "3                 Sales           0  \n",
              "4  Health Care Provider           0  "
            ],
            "text/html": [
              "\n",
              "  <div id=\"df-c6e61a59-ee3e-4d6a-afc7-efdd39e7c82c\">\n",
              "    <div class=\"colab-df-container\">\n",
              "      <div>\n",
              "<style scoped>\n",
              "    .dataframe tbody tr th:only-of-type {\n",
              "        vertical-align: middle;\n",
              "    }\n",
              "\n",
              "    .dataframe tbody tr th {\n",
              "        vertical-align: top;\n",
              "    }\n",
              "\n",
              "    .dataframe thead th {\n",
              "        text-align: right;\n",
              "    }\n",
              "</style>\n",
              "<table border=\"1\" class=\"dataframe\">\n",
              "  <thead>\n",
              "    <tr style=\"text-align: right;\">\n",
              "      <th></th>\n",
              "      <th>telecommuting</th>\n",
              "      <th>has_company_logo</th>\n",
              "      <th>has_questions</th>\n",
              "      <th>employment_type</th>\n",
              "      <th>required_experience</th>\n",
              "      <th>required_education</th>\n",
              "      <th>industry</th>\n",
              "      <th>function</th>\n",
              "      <th>fraudulent</th>\n",
              "    </tr>\n",
              "  </thead>\n",
              "  <tbody>\n",
              "    <tr>\n",
              "      <th>0</th>\n",
              "      <td>0</td>\n",
              "      <td>1</td>\n",
              "      <td>0</td>\n",
              "      <td>Other</td>\n",
              "      <td>Internship</td>\n",
              "      <td></td>\n",
              "      <td></td>\n",
              "      <td>Marketing</td>\n",
              "      <td>0</td>\n",
              "    </tr>\n",
              "    <tr>\n",
              "      <th>1</th>\n",
              "      <td>0</td>\n",
              "      <td>1</td>\n",
              "      <td>0</td>\n",
              "      <td>Full-time</td>\n",
              "      <td>Not Applicable</td>\n",
              "      <td></td>\n",
              "      <td>Marketing and Advertising</td>\n",
              "      <td>Customer Service</td>\n",
              "      <td>0</td>\n",
              "    </tr>\n",
              "    <tr>\n",
              "      <th>2</th>\n",
              "      <td>0</td>\n",
              "      <td>1</td>\n",
              "      <td>0</td>\n",
              "      <td></td>\n",
              "      <td></td>\n",
              "      <td></td>\n",
              "      <td></td>\n",
              "      <td></td>\n",
              "      <td>0</td>\n",
              "    </tr>\n",
              "    <tr>\n",
              "      <th>3</th>\n",
              "      <td>0</td>\n",
              "      <td>1</td>\n",
              "      <td>0</td>\n",
              "      <td>Full-time</td>\n",
              "      <td>Mid-Senior level</td>\n",
              "      <td>Bachelor's Degree</td>\n",
              "      <td>Computer Software</td>\n",
              "      <td>Sales</td>\n",
              "      <td>0</td>\n",
              "    </tr>\n",
              "    <tr>\n",
              "      <th>4</th>\n",
              "      <td>0</td>\n",
              "      <td>1</td>\n",
              "      <td>1</td>\n",
              "      <td>Full-time</td>\n",
              "      <td>Mid-Senior level</td>\n",
              "      <td>Bachelor's Degree</td>\n",
              "      <td>Hospital &amp; Health Care</td>\n",
              "      <td>Health Care Provider</td>\n",
              "      <td>0</td>\n",
              "    </tr>\n",
              "  </tbody>\n",
              "</table>\n",
              "</div>\n",
              "      <button class=\"colab-df-convert\" onclick=\"convertToInteractive('df-c6e61a59-ee3e-4d6a-afc7-efdd39e7c82c')\"\n",
              "              title=\"Convert this dataframe to an interactive table.\"\n",
              "              style=\"display:none;\">\n",
              "        \n",
              "  <svg xmlns=\"http://www.w3.org/2000/svg\" height=\"24px\"viewBox=\"0 0 24 24\"\n",
              "       width=\"24px\">\n",
              "    <path d=\"M0 0h24v24H0V0z\" fill=\"none\"/>\n",
              "    <path d=\"M18.56 5.44l.94 2.06.94-2.06 2.06-.94-2.06-.94-.94-2.06-.94 2.06-2.06.94zm-11 1L8.5 8.5l.94-2.06 2.06-.94-2.06-.94L8.5 2.5l-.94 2.06-2.06.94zm10 10l.94 2.06.94-2.06 2.06-.94-2.06-.94-.94-2.06-.94 2.06-2.06.94z\"/><path d=\"M17.41 7.96l-1.37-1.37c-.4-.4-.92-.59-1.43-.59-.52 0-1.04.2-1.43.59L10.3 9.45l-7.72 7.72c-.78.78-.78 2.05 0 2.83L4 21.41c.39.39.9.59 1.41.59.51 0 1.02-.2 1.41-.59l7.78-7.78 2.81-2.81c.8-.78.8-2.07 0-2.86zM5.41 20L4 18.59l7.72-7.72 1.47 1.35L5.41 20z\"/>\n",
              "  </svg>\n",
              "      </button>\n",
              "      \n",
              "  <style>\n",
              "    .colab-df-container {\n",
              "      display:flex;\n",
              "      flex-wrap:wrap;\n",
              "      gap: 12px;\n",
              "    }\n",
              "\n",
              "    .colab-df-convert {\n",
              "      background-color: #E8F0FE;\n",
              "      border: none;\n",
              "      border-radius: 50%;\n",
              "      cursor: pointer;\n",
              "      display: none;\n",
              "      fill: #1967D2;\n",
              "      height: 32px;\n",
              "      padding: 0 0 0 0;\n",
              "      width: 32px;\n",
              "    }\n",
              "\n",
              "    .colab-df-convert:hover {\n",
              "      background-color: #E2EBFA;\n",
              "      box-shadow: 0px 1px 2px rgba(60, 64, 67, 0.3), 0px 1px 3px 1px rgba(60, 64, 67, 0.15);\n",
              "      fill: #174EA6;\n",
              "    }\n",
              "\n",
              "    [theme=dark] .colab-df-convert {\n",
              "      background-color: #3B4455;\n",
              "      fill: #D2E3FC;\n",
              "    }\n",
              "\n",
              "    [theme=dark] .colab-df-convert:hover {\n",
              "      background-color: #434B5C;\n",
              "      box-shadow: 0px 1px 3px 1px rgba(0, 0, 0, 0.15);\n",
              "      filter: drop-shadow(0px 1px 2px rgba(0, 0, 0, 0.3));\n",
              "      fill: #FFFFFF;\n",
              "    }\n",
              "  </style>\n",
              "\n",
              "      <script>\n",
              "        const buttonEl =\n",
              "          document.querySelector('#df-c6e61a59-ee3e-4d6a-afc7-efdd39e7c82c button.colab-df-convert');\n",
              "        buttonEl.style.display =\n",
              "          google.colab.kernel.accessAllowed ? 'block' : 'none';\n",
              "\n",
              "        async function convertToInteractive(key) {\n",
              "          const element = document.querySelector('#df-c6e61a59-ee3e-4d6a-afc7-efdd39e7c82c');\n",
              "          const dataTable =\n",
              "            await google.colab.kernel.invokeFunction('convertToInteractive',\n",
              "                                                     [key], {});\n",
              "          if (!dataTable) return;\n",
              "\n",
              "          const docLinkHtml = 'Like what you see? Visit the ' +\n",
              "            '<a target=\"_blank\" href=https://colab.research.google.com/notebooks/data_table.ipynb>data table notebook</a>'\n",
              "            + ' to learn more about interactive tables.';\n",
              "          element.innerHTML = '';\n",
              "          dataTable['output_type'] = 'display_data';\n",
              "          await google.colab.output.renderOutput(dataTable, element);\n",
              "          const docLink = document.createElement('div');\n",
              "          docLink.innerHTML = docLinkHtml;\n",
              "          element.appendChild(docLink);\n",
              "        }\n",
              "      </script>\n",
              "    </div>\n",
              "  </div>\n",
              "  "
            ]
          },
          "metadata": {},
          "execution_count": 14
        }
      ]
    },
    {
      "cell_type": "code",
      "execution_count": null,
      "metadata": {
        "colab": {
          "base_uri": "https://localhost:8080/",
          "height": 359
        },
        "id": "YXHzrL5wJ6-O",
        "outputId": "1eea873a-0761-4c65-e332-6dff44ba0630"
      },
      "outputs": [
        {
          "output_type": "display_data",
          "data": {
            "text/plain": [
              "<Figure size 432x288 with 1 Axes>"
            ],
            "image/png": "[encoded data removed]"
          },
          "metadata": {
            "needs_background": "light"
          }
        }
      ],
      "source": [
        "# Count the number of samples in each class\n",
        "class_counts = df[\"fraudulent\"].value_counts()\n",
        "\n",
        "# Create a bar plot of the class counts\n",
        "class_counts.plot(kind=\"bar\")\n",
        "plt.title(\"Class Distribution Before Balancing\")\n",
        "plt.xlabel(\"Class\")\n",
        "plt.ylabel(\"Count\")\n",
        "plt.xticks([0, 1], [\"Not Fraudulent\", \"Fraudulent\"])\n",
        "plt.show()"
      ]
    },
    {
      "cell_type": "code",
      "source": [
        "df.info()"
      ],
      "metadata": {
        "colab": {
          "base_uri": "https://localhost:8080/"
        },
        "id": "x4GqJj81ZSU1",
        "outputId": "7a390481-44fb-468b-bd0d-5bd53dc14d39"
      },
      "execution_count": null,
      "outputs": [
        {
          "output_type": "stream",
          "name": "stdout",
          "text": [
            "<class 'pandas.core.frame.DataFrame'>\n",
            "RangeIndex: 17880 entries, 0 to 17879\n",
            "Data columns (total 9 columns):\n",
            " #   Column               Non-Null Count  Dtype \n",
            "---  ------               --------------  ----- \n",
            " 0   telecommuting        17880 non-null  int64 \n",
            " 1   has_company_logo     17880 non-null  int64 \n",
            " 2   has_questions        17880 non-null  int64 \n",
            " 3   employment_type      17880 non-null  object\n",
            " 4   required_experience  17880 non-null  object\n",
            " 5   required_education   17880 non-null  object\n",
            " 6   industry             17880 non-null  object\n",
            " 7   function             17880 non-null  object\n",
            " 8   fraudulent           17880 non-null  int64 \n",
            "dtypes: int64(4), object(5)\n",
            "memory usage: 1.2+ MB\n"
          ]
        }
      ]
    },
    {
      "cell_type": "code",
      "source": [
        "# Split the data into training and testing sets\n",
        "train_size = int(len(df) * 0.8)\n",
        "train_data = df[:train_size]\n",
        "test_data = df[train_size:]"
      ],
      "metadata": {
        "id": "xbfI1qByZZ-v"
      },
      "execution_count": null,
      "outputs": []
    },
    {
      "cell_type": "code",
      "source": [
        "len(df. index)"
      ],
      "metadata": {
        "colab": {
          "base_uri": "https://localhost:8080/"
        },
        "id": "K2ZPmRDqZfYL",
        "outputId": "1aed30b9-c8ec-4214-abe5-8d52f94d2ac5"
      },
      "execution_count": null,
      "outputs": [
        {
          "output_type": "execute_result",
          "data": {
            "text/plain": [
              "17880"
            ]
          },
          "metadata": {},
          "execution_count": 18
        }
      ]
    },
    {
      "cell_type": "code",
      "source": [
        "len(train_data. index)"
      ],
      "metadata": {
        "colab": {
          "base_uri": "https://localhost:8080/"
        },
        "id": "Phlb-qt-ZhM8",
        "outputId": "70e93bc5-e596-4840-dfbb-b338523334d3"
      },
      "execution_count": null,
      "outputs": [
        {
          "output_type": "execute_result",
          "data": {
            "text/plain": [
              "14304"
            ]
          },
          "metadata": {},
          "execution_count": 19
        }
      ]
    },
    {
      "cell_type": "code",
      "source": [
        "len(test_data. index)"
      ],
      "metadata": {
        "colab": {
          "base_uri": "https://localhost:8080/"
        },
        "id": "zJ8Op5aUZis_",
        "outputId": "76e55245-a584-4530-fb31-6f3206e803fd"
      },
      "execution_count": null,
      "outputs": [
        {
          "output_type": "execute_result",
          "data": {
            "text/plain": [
              "3576"
            ]
          },
          "metadata": {},
          "execution_count": 20
        }
      ]
    },
    {
      "cell_type": "code",
      "source": [
        "# Calculate the prior probabilities for each class\n",
        "prior = {}\n",
        "total = len(train_data)\n",
        "for i in range(total):\n",
        "    label = train_data.iloc[i]['fraudulent']\n",
        "    if label in prior:\n",
        "        prior[label] += 1\n",
        "    else:\n",
        "        prior[label] = 1\n",
        "for label in prior:\n",
        "    prior[label] /= total"
      ],
      "metadata": {
        "id": "pHHavDzaZk8R"
      },
      "execution_count": null,
      "outputs": []
    },
    {
      "cell_type": "code",
      "source": [
        "prior"
      ],
      "metadata": {
        "colab": {
          "base_uri": "https://localhost:8080/"
        },
        "id": "SV9BU1f9ZoMb",
        "outputId": "34fb594d-6a37-42a8-b252-a075f2c9b83e"
      },
      "execution_count": null,
      "outputs": [
        {
          "output_type": "execute_result",
          "data": {
            "text/plain": [
              "{0: 0.9634368008948546, 1: 0.03656319910514541}"
            ]
          },
          "metadata": {},
          "execution_count": 22
        }
      ]
    },
    {
      "cell_type": "code",
      "source": [
        "# Calculate the conditional probabilities for each feature\n",
        "cond_prob = {}\n",
        "for col in train_data.columns[:-1]:\n",
        "#     print(col)\n",
        "    for label in prior:\n",
        "        cond_prob[(col, label)] = {}\n",
        "        for value in set(train_data[col]):\n",
        "            count = len(train_data[(train_data[col] == value) & (train_data['fraudulent'] == label)])\n",
        "            cond_prob[(col, label)][value] = (count + 1) / (prior[label] * total + len(set(train_data[col])))"
      ],
      "metadata": {
        "id": "jwZKCWp8Zqq_"
      },
      "execution_count": null,
      "outputs": []
    },
    {
      "cell_type": "code",
      "source": [
        "cond_prob"
      ],
      "metadata": {
        "colab": {
          "base_uri": "https://localhost:8080/"
        },
        "id": "qW315pivZtDV",
        "outputId": "4e1cd319-f949-451a-ea23-e76cf16d01b1"
      },
      "execution_count": null,
      "outputs": [
        {
          "output_type": "execute_result",
          "data": {
            "text/plain": [
              "{('telecommuting', 0): {0: 0.9587898135384169, 1: 0.04121018646158311},\n",
              " ('telecommuting', 1): {0: 0.9219047619047619, 1: 0.07809523809523809},\n",
              " ('has_company_logo', 0): {0: 0.18051222520496263, 1: 0.8194877747950373},\n",
              " ('has_company_logo', 1): {0: 0.5580952380952381, 1: 0.4419047619047619},\n",
              " ('has_questions', 0): {0: 0.48842777334397447, 1: 0.5115722266560255},\n",
              " ('has_questions', 1): {0: 0.6438095238095238, 1: 0.35619047619047617},\n",
              " ('employment_type', 0): {'': 0.19387829114383115,\n",
              "  'Temporary': 0.014433886994995286,\n",
              "  'Contract': 0.09320374265612534,\n",
              "  'Part-time': 0.04446217451222166,\n",
              "  'Full-time': 0.6417639805613984,\n",
              "  'Other': 0.012257924131428156},\n",
              " ('employment_type', 1): {'': 0.2495274102079395,\n",
              "  'Temporary': 0.003780718336483932,\n",
              "  'Contract': 0.05103969754253308,\n",
              "  'Part-time': 0.04914933837429111,\n",
              "  'Full-time': 0.6351606805293005,\n",
              "  'Other': 0.011342155009451797},\n",
              " ('required_experience', 0): {'': 0.3842918268184785,\n",
              "  'Director': 0.02240916672710131,\n",
              "  'Entry level': 0.15708173181521504,\n",
              "  'Mid-Senior level': 0.2131409094205526,\n",
              "  'Executive': 0.00761476539270433,\n",
              "  'Internship': 0.021393864674740734,\n",
              "  'Not Applicable': 0.061933425193995216,\n",
              "  'Associate': 0.13213430995721226},\n",
              " ('required_experience', 1): {'': 0.4726930320150659,\n",
              "  'Director': 0.030131826741996232,\n",
              "  'Entry level': 0.18455743879472694,\n",
              "  'Mid-Senior level': 0.1902071563088512,\n",
              "  'Executive': 0.01694915254237288,\n",
              "  'Internship': 0.013182674199623353,\n",
              "  'Not Applicable': 0.04519774011299435,\n",
              "  'Associate': 0.047080979284369114},\n",
              " ('required_education', 0): {'': 0.434650235592606,\n",
              "  'Vocational - HS Diploma': 0.00043494019572308805,\n",
              "  'Certification': 0.008698803914461761,\n",
              "  'High School or equivalent': 0.1185212033345415,\n",
              "  'Doctorate': 0.001594780717651323,\n",
              "  'Professional': 0.004059441826748822,\n",
              "  'Some High School Coursework': 0.0005799202609641174,\n",
              "  'Vocational - Degree': 0.0005074302283436027,\n",
              "  \"Bachelor's Degree\": 0.3041681768756796,\n",
              "  \"Master's Degree\": 0.022834360275462123,\n",
              "  'Unspecified': 0.07886915549111997,\n",
              "  'Some College Coursework Completed': 0.0061616527727437476,\n",
              "  'Associate Degree': 0.01609278724175426,\n",
              "  'Vocational': 0.0028271112722000726},\n",
              " ('required_education', 1): {'': 0.45251396648044695,\n",
              "  'Vocational - HS Diploma': 0.00186219739292365,\n",
              "  'Certification': 0.0297951582867784,\n",
              "  'High School or equivalent': 0.19180633147113593,\n",
              "  'Doctorate': 0.00186219739292365,\n",
              "  'Professional': 0.0074487895716946,\n",
              "  'Some High School Coursework': 0.027932960893854747,\n",
              "  'Vocational - Degree': 0.00186219739292365,\n",
              "  \"Bachelor's Degree\": 0.16573556797020483,\n",
              "  \"Master's Degree\": 0.0521415270018622,\n",
              "  'Unspecified': 0.05027932960893855,\n",
              "  'Some College Coursework Completed': 0.0037243947858473,\n",
              "  'Associate Degree': 0.0111731843575419,\n",
              "  'Vocational': 0.00186219739292365},\n",
              " ('industry', 0): {'': 0.2695902228612509,\n",
              "  'Individual & Family Services': 0.0006470165348670022,\n",
              "  'Printing': 0.0017253774263120058,\n",
              "  'Textiles': 0.00014378145219266715,\n",
              "  'Mental Health Care': 0.0016534867002156721,\n",
              "  'Events Services': 0.0031631919482386773,\n",
              "  'Food Production': 0.002803738317757009,\n",
              "  'Veterinary': 0.0003594536304816679,\n",
              "  'Investment Banking': 0.0003594536304816679,\n",
              "  'Transportation/Trucking/Railroad': 0.0027318475916606757,\n",
              "  'Program Development': 0.000503235082674335,\n",
              "  'Computer Games': 0.004097771387491013,\n",
              "  'Wine and Spirits': 0.00014378145219266715,\n",
              "  'Graphic Design': 0.0017972681524083393,\n",
              "  'Construction': 0.009345794392523364,\n",
              "  'Nonprofit Organization Management': 0.004529115744069015,\n",
              "  'Information Technology and Services': 0.09856218547807333,\n",
              "  'Publishing': 0.002372393961179008,\n",
              "  'Mining & Metals': 0.00021567217828900073,\n",
              "  'Defense & Space': 0.00043134435657800146,\n",
              "  'Farming': 0.001509705248023005,\n",
              "  'Consumer Goods': 0.0035945363048166786,\n",
              "  'Aviation & Aerospace': 0.001509705248023005,\n",
              "  'E-Learning': 0.007979870596693027,\n",
              "  'Health, Wellness and Fitness': 0.0065420560747663555,\n",
              "  'Online Media': 0.00603882099209202,\n",
              "  'Automotive': 0.007260963335729691,\n",
              "  'Cosmetics': 0.004385334291876348,\n",
              "  'Consumer Electronics': 0.0038102084831056794,\n",
              "  'Building Materials': 0.0050323508267433505,\n",
              "  'Entertainment': 0.004313443565780014,\n",
              "  'Leisure, Travel & Tourism': 0.002875629043853343,\n",
              "  'Public Policy': 0.00021567217828900073,\n",
              "  'Media Production': 0.002875629043853343,\n",
              "  'Mechanical or Industrial Engineering': 0.002156721782890007,\n",
              "  'Packaging and Containers': 0.00043134435657800146,\n",
              "  'Food & Beverages': 0.004672897196261682,\n",
              "  'Libraries': 0.00021567217828900073,\n",
              "  'Facilities Services': 0.005895039539899353,\n",
              "  'Government Relations': 0.0007907979870596693,\n",
              "  'Government Administration': 0.001509705248023005,\n",
              "  'Music': 0.0005751258087706686,\n",
              "  'Accounting': 0.005319913731128684,\n",
              "  'Hospital & Health Care': 0.026312005751258086,\n",
              "  'Staffing and Recruiting': 0.0066858375269590225,\n",
              "  'Motion Pictures and Film': 0.00043134435657800146,\n",
              "  'Computer Hardware': 0.00201294033069734,\n",
              "  'Business Supplies and Equipment': 0.0010783608914450035,\n",
              "  'Computer Networking': 0.0020848310567936736,\n",
              "  'Design': 0.007692307692307693,\n",
              "  'Gambling & Casinos': 0.002659956865564342,\n",
              "  'Nanotechnology': 0.00021567217828900073,\n",
              "  'Renewables & Environment': 0.0006470165348670022,\n",
              "  'Financial Services': 0.04579439252336449,\n",
              "  'Internet': 0.0597411933860532,\n",
              "  'Luxury Goods & Jewelry': 0.0003594536304816679,\n",
              "  'Semiconductors': 0.0008626887131560029,\n",
              "  'Research': 0.0019410496046010064,\n",
              "  'Education Management': 0.05298346513299784,\n",
              "  'Import and Export': 0.00043134435657800146,\n",
              "  'Medical Practice': 0.0035945363048166786,\n",
              "  'Computer Software': 0.0792235801581596,\n",
              "  'Performing Arts': 0.0002875629043853343,\n",
              "  'Military': 7.189072609633358e-05,\n",
              "  'Furniture': 0.00014378145219266715,\n",
              "  'Electrical/Electronic Manufacturing': 0.004169662113587347,\n",
              "  'Commercial Real Estate': 0.0003594536304816679,\n",
              "  'Retail': 0.011933860531991374,\n",
              "  'Investment Management': 0.00043134435657800146,\n",
              "  'Utilities': 0.0017253774263120058,\n",
              "  'Architecture & Planning': 0.0006470165348670022,\n",
              "  'Medical Devices': 0.0012940330697340044,\n",
              "  'Industrial Automation': 0.00043134435657800146,\n",
              "  'Airlines/Aviation': 0.003522645578720345,\n",
              "  'Museums and Institutions': 0.00014378145219266715,\n",
              "  'Wholesale': 0.0006470165348670022,\n",
              "  'Venture Capital & Private Equity': 0.001869158878504673,\n",
              "  'Apparel & Fashion': 0.005319913731128684,\n",
              "  'Insurance': 0.005751258087706686,\n",
              "  'Civil Engineering': 0.0003594536304816679,\n",
              "  'Law Practice': 0.0011502516175413372,\n",
              "  'Biotechnology': 0.0019410496046010064,\n",
              "  'Animation': 0.00021567217828900073,\n",
              "  'Translation and Localization': 0.0005751258087706686,\n",
              "  'Marketing and Advertising': 0.04356578001437814,\n",
              "  'Chemicals': 0.0014378145219266715,\n",
              "  'Computer & Network Security': 0.0025880661394680087,\n",
              "  'Logistics and Supply Chain': 0.00603882099209202,\n",
              "  'Sporting Goods': 0.00014378145219266715,\n",
              "  'Capital Markets': 0.00043134435657800146,\n",
              "  'Civic & Social Organization': 0.002875629043853343,\n",
              "  'Pharmaceuticals': 0.0023005032350826744,\n",
              "  'Oil & Energy': 0.011646297627606038,\n",
              "  'Public Safety': 0.00021567217828900073,\n",
              "  'Legal Services': 0.0066139468008626886,\n",
              "  'Plastics': 0.00021567217828900073,\n",
              "  'Fishery': 0.00021567217828900073,\n",
              "  'Religious Institutions': 0.000503235082674335,\n",
              "  'Sports': 0.0013659237958303378,\n",
              "  'Photography': 0.0005751258087706686,\n",
              "  'Human Resources': 0.006398274622573688,\n",
              "  'Real Estate': 0.004313443565780014,\n",
              "  'Maritime': 0.0002875629043853343,\n",
              "  'Law Enforcement': 0.0007189072609633358,\n",
              "  'International Trade and Development': 0.000503235082674335,\n",
              "  'Telecommunications': 0.019985621854780734,\n",
              "  'Writing and Editing': 0.00100647016534867,\n",
              "  'Public Relations and Communications': 0.0034507548526240116,\n",
              "  'Hospitality': 0.004601006470165349,\n",
              "  'Banking': 0.004960460100647017,\n",
              "  'Warehousing': 0.002875629043853343,\n",
              "  'Outsourcing/Offshoring': 0.0010783608914450035,\n",
              "  'Restaurants': 0.0030913012221423434,\n",
              "  'Wireless': 0.0003594536304816679,\n",
              "  'Package/Freight Delivery': 0.00043134435657800146,\n",
              "  'Security and Investigations': 0.0017253774263120058,\n",
              "  'Broadcast Media': 0.003522645578720345,\n",
              "  'Executive Office': 0.000503235082674335,\n",
              "  'Higher Education': 0.0007907979870596693,\n",
              "  'Environmental Services': 0.002659956865564342,\n",
              "  'Primary/Secondary Education': 0.000503235082674335,\n",
              "  'Market Research': 0.0024442846872753414,\n",
              "  'Information Services': 0.0014378145219266715,\n",
              "  'Consumer Services': 0.018547807332854063,\n",
              "  'Machinery': 0.0007189072609633358,\n",
              "  'Fund-Raising': 0.0011502516175413372,\n",
              "  'Professional Training & Coaching': 0.0009345794392523365,\n",
              "  'Philanthropy': 0.00021567217828900073,\n",
              "  'Management Consulting': 0.007620416966211359},\n",
              " ('industry', 1): {'': 0.19938650306748465,\n",
              "  'Individual & Family Services': 0.0015337423312883436,\n",
              "  'Printing': 0.0015337423312883436,\n",
              "  'Textiles': 0.0015337423312883436,\n",
              "  'Mental Health Care': 0.0015337423312883436,\n",
              "  'Events Services': 0.0015337423312883436,\n",
              "  'Food Production': 0.003067484662576687,\n",
              "  'Veterinary': 0.0015337423312883436,\n",
              "  'Investment Banking': 0.0015337423312883436,\n",
              "  'Transportation/Trucking/Railroad': 0.006134969325153374,\n",
              "  'Program Development': 0.0015337423312883436,\n",
              "  'Computer Games': 0.0015337423312883436,\n",
              "  'Wine and Spirits': 0.0015337423312883436,\n",
              "  'Graphic Design': 0.0015337423312883436,\n",
              "  'Construction': 0.006134969325153374,\n",
              "  'Nonprofit Organization Management': 0.0015337423312883436,\n",
              "  'Information Technology and Services': 0.03834355828220859,\n",
              "  'Publishing': 0.0015337423312883436,\n",
              "  'Mining & Metals': 0.0015337423312883436,\n",
              "  'Defense & Space': 0.0015337423312883436,\n",
              "  'Farming': 0.0015337423312883436,\n",
              "  'Consumer Goods': 0.003067484662576687,\n",
              "  'Aviation & Aerospace': 0.0015337423312883436,\n",
              "  'E-Learning': 0.003067484662576687,\n",
              "  'Health, Wellness and Fitness': 0.015337423312883436,\n",
              "  'Online Media': 0.0015337423312883436,\n",
              "  'Automotive': 0.006134969325153374,\n",
              "  'Cosmetics': 0.0015337423312883436,\n",
              "  'Consumer Electronics': 0.0015337423312883436,\n",
              "  'Building Materials': 0.0015337423312883436,\n",
              "  'Entertainment': 0.0015337423312883436,\n",
              "  'Leisure, Travel & Tourism': 0.01687116564417178,\n",
              "  'Public Policy': 0.0015337423312883436,\n",
              "  'Media Production': 0.004601226993865031,\n",
              "  'Mechanical or Industrial Engineering': 0.007668711656441718,\n",
              "  'Packaging and Containers': 0.0015337423312883436,\n",
              "  'Food & Beverages': 0.0015337423312883436,\n",
              "  'Libraries': 0.0015337423312883436,\n",
              "  'Facilities Services': 0.0015337423312883436,\n",
              "  'Government Relations': 0.0015337423312883436,\n",
              "  'Government Administration': 0.0015337423312883436,\n",
              "  'Music': 0.0015337423312883436,\n",
              "  'Accounting': 0.04141104294478527,\n",
              "  'Hospital & Health Care': 0.04754601226993865,\n",
              "  'Staffing and Recruiting': 0.007668711656441718,\n",
              "  'Motion Pictures and Film': 0.0015337423312883436,\n",
              "  'Computer Hardware': 0.003067484662576687,\n",
              "  'Business Supplies and Equipment': 0.003067484662576687,\n",
              "  'Computer Networking': 0.01687116564417178,\n",
              "  'Design': 0.004601226993865031,\n",
              "  'Gambling & Casinos': 0.0015337423312883436,\n",
              "  'Nanotechnology': 0.0015337423312883436,\n",
              "  'Renewables & Environment': 0.0015337423312883436,\n",
              "  'Financial Services': 0.032208588957055216,\n",
              "  'Internet': 0.0015337423312883436,\n",
              "  'Luxury Goods & Jewelry': 0.0015337423312883436,\n",
              "  'Semiconductors': 0.0015337423312883436,\n",
              "  'Research': 0.0015337423312883436,\n",
              "  'Education Management': 0.0015337423312883436,\n",
              "  'Import and Export': 0.0015337423312883436,\n",
              "  'Medical Practice': 0.0015337423312883436,\n",
              "  'Computer Software': 0.009202453987730062,\n",
              "  'Performing Arts': 0.0015337423312883436,\n",
              "  'Military': 0.003067484662576687,\n",
              "  'Furniture': 0.0015337423312883436,\n",
              "  'Electrical/Electronic Manufacturing': 0.004601226993865031,\n",
              "  'Commercial Real Estate': 0.0015337423312883436,\n",
              "  'Retail': 0.009202453987730062,\n",
              "  'Investment Management': 0.003067484662576687,\n",
              "  'Utilities': 0.003067484662576687,\n",
              "  'Architecture & Planning': 0.0015337423312883436,\n",
              "  'Medical Devices': 0.0015337423312883436,\n",
              "  'Industrial Automation': 0.0015337423312883436,\n",
              "  'Airlines/Aviation': 0.0015337423312883436,\n",
              "  'Museums and Institutions': 0.0015337423312883436,\n",
              "  'Wholesale': 0.003067484662576687,\n",
              "  'Venture Capital & Private Equity': 0.0015337423312883436,\n",
              "  'Apparel & Fashion': 0.0015337423312883436,\n",
              "  'Insurance': 0.009202453987730062,\n",
              "  'Civil Engineering': 0.0015337423312883436,\n",
              "  'Law Practice': 0.0015337423312883436,\n",
              "  'Biotechnology': 0.0015337423312883436,\n",
              "  'Animation': 0.0015337423312883436,\n",
              "  'Translation and Localization': 0.0015337423312883436,\n",
              "  'Marketing and Advertising': 0.049079754601226995,\n",
              "  'Chemicals': 0.0015337423312883436,\n",
              "  'Computer & Network Security': 0.009202453987730062,\n",
              "  'Logistics and Supply Chain': 0.004601226993865031,\n",
              "  'Sporting Goods': 0.0015337423312883436,\n",
              "  'Capital Markets': 0.0015337423312883436,\n",
              "  'Civic & Social Organization': 0.003067484662576687,\n",
              "  'Pharmaceuticals': 0.0015337423312883436,\n",
              "  'Oil & Energy': 0.16257668711656442,\n",
              "  'Public Safety': 0.003067484662576687,\n",
              "  'Legal Services': 0.0015337423312883436,\n",
              "  'Plastics': 0.0015337423312883436,\n",
              "  'Fishery': 0.0015337423312883436,\n",
              "  'Religious Institutions': 0.0015337423312883436,\n",
              "  'Sports': 0.0015337423312883436,\n",
              "  'Photography': 0.0015337423312883436,\n",
              "  'Human Resources': 0.009202453987730062,\n",
              "  'Real Estate': 0.02607361963190184,\n",
              "  'Maritime': 0.0015337423312883436,\n",
              "  'Law Enforcement': 0.0015337423312883436,\n",
              "  'International Trade and Development': 0.0015337423312883436,\n",
              "  'Telecommunications': 0.02607361963190184,\n",
              "  'Writing and Editing': 0.0015337423312883436,\n",
              "  'Public Relations and Communications': 0.0015337423312883436,\n",
              "  'Hospitality': 0.01687116564417178,\n",
              "  'Banking': 0.003067484662576687,\n",
              "  'Warehousing': 0.003067484662576687,\n",
              "  'Outsourcing/Offshoring': 0.0015337423312883436,\n",
              "  'Restaurants': 0.0015337423312883436,\n",
              "  'Wireless': 0.0015337423312883436,\n",
              "  'Package/Freight Delivery': 0.0015337423312883436,\n",
              "  'Security and Investigations': 0.003067484662576687,\n",
              "  'Broadcast Media': 0.003067484662576687,\n",
              "  'Executive Office': 0.003067484662576687,\n",
              "  'Higher Education': 0.0015337423312883436,\n",
              "  'Environmental Services': 0.006134969325153374,\n",
              "  'Primary/Secondary Education': 0.0015337423312883436,\n",
              "  'Market Research': 0.004601226993865031,\n",
              "  'Information Services': 0.004601226993865031,\n",
              "  'Consumer Services': 0.015337423312883436,\n",
              "  'Machinery': 0.0015337423312883436,\n",
              "  'Fund-Raising': 0.0015337423312883436,\n",
              "  'Professional Training & Coaching': 0.0015337423312883436,\n",
              "  'Philanthropy': 0.0015337423312883436,\n",
              "  'Management Consulting': 0.009202453987730062},\n",
              " ('function', 0): {'': 0.35299225703741227,\n",
              "  'Information Technology': 0.10348071495766697,\n",
              "  'Project Management': 0.010203343223098632,\n",
              "  'Human Resources': 0.01165062594977929,\n",
              "  'Business Development': 0.013097908676459947,\n",
              "  'Customer Service': 0.06823938056299297,\n",
              "  'Education': 0.022577610536218252,\n",
              "  'Other': 0.017946305810840148,\n",
              "  'Strategy/Planning': 0.0026774730443592156,\n",
              "  'Production': 0.0071640494970692525,\n",
              "  'Engineering': 0.07033794051667994,\n",
              "  'Product Management': 0.006512772270062956,\n",
              "  'Manufacturing': 0.004197119907373905,\n",
              "  'Art/Creative': 0.007236413633403285,\n",
              "  'Finance': 0.009986250814096534,\n",
              "  'Training': 0.002315652362689051,\n",
              "  'Marketing': 0.04645777552644909,\n",
              "  'Consulting': 0.008538968087415876,\n",
              "  'General Business': 0.004269484043707938,\n",
              "  'Accounting/Auditing': 0.011144076995441059,\n",
              "  'Health Care Provider': 0.01975540921919097,\n",
              "  'Distribution': 0.001447282726680657,\n",
              "  'Design': 0.019321224401186773,\n",
              "  'Data Analyst': 0.004703668861712135,\n",
              "  'Financial Analyst': 0.001447282726680657,\n",
              "  'Management': 0.01924886026485274,\n",
              "  'Supply Chain': 0.001953831681018887,\n",
              "  'Public Relations': 0.004414212316376004,\n",
              "  'Advertising': 0.005499674361386497,\n",
              "  'Business Analyst': 0.005210217816050366,\n",
              "  'Legal': 0.0026774730443592156,\n",
              "  'Administrative': 0.03249149721398075,\n",
              "  'Sales': 0.08213329473912728,\n",
              "  'Writing/Editing': 0.007815326724075549,\n",
              "  'Purchasing': 0.00101309790867646,\n",
              "  'Quality Assurance': 0.006729864679065055,\n",
              "  'Science': 0.0007236413633403285,\n",
              "  'Research': 0.0023880164990230843},\n",
              " ('function', 1): {'': 0.30303030303030304,\n",
              "  'Information Technology': 0.04634581105169341,\n",
              "  'Project Management': 0.017825311942959002,\n",
              "  'Human Resources': 0.017825311942959002,\n",
              "  'Business Development': 0.0106951871657754,\n",
              "  'Customer Service': 0.0766488413547237,\n",
              "  'Education': 0.0035650623885918,\n",
              "  'Other': 0.053475935828877004,\n",
              "  'Strategy/Planning': 0.0035650623885918,\n",
              "  'Production': 0.0017825311942959,\n",
              "  'Engineering': 0.1925133689839572,\n",
              "  'Product Management': 0.0017825311942959,\n",
              "  'Manufacturing': 0.0053475935828877,\n",
              "  'Art/Creative': 0.0017825311942959,\n",
              "  'Finance': 0.0213903743315508,\n",
              "  'Training': 0.0017825311942959,\n",
              "  'Marketing': 0.008912655971479501,\n",
              "  'Consulting': 0.0071301247771836,\n",
              "  'General Business': 0.0017825311942959,\n",
              "  'Accounting/Auditing': 0.0196078431372549,\n",
              "  'Health Care Provider': 0.0017825311942959,\n",
              "  'Distribution': 0.0071301247771836,\n",
              "  'Design': 0.0035650623885918,\n",
              "  'Data Analyst': 0.0035650623885918,\n",
              "  'Financial Analyst': 0.0071301247771836,\n",
              "  'Management': 0.012477718360071301,\n",
              "  'Supply Chain': 0.0017825311942959,\n",
              "  'Public Relations': 0.0035650623885918,\n",
              "  'Advertising': 0.0071301247771836,\n",
              "  'Business Analyst': 0.0035650623885918,\n",
              "  'Legal': 0.0017825311942959,\n",
              "  'Administrative': 0.0944741532976827,\n",
              "  'Sales': 0.04634581105169341,\n",
              "  'Writing/Editing': 0.0017825311942959,\n",
              "  'Purchasing': 0.0017825311942959,\n",
              "  'Quality Assurance': 0.0017825311942959,\n",
              "  'Science': 0.0017825311942959,\n",
              "  'Research': 0.0017825311942959}}"
            ]
          },
          "metadata": {},
          "execution_count": 24
        }
      ]
    },
    {
      "cell_type": "code",
      "source": [
        "# Predict the labels for the testing set\n",
        "predicted = []\n",
        "for i in range(len(test_data)):\n",
        "    row = test_data.iloc[i]\n",
        "    probs = {}\n",
        "    for label in prior:\n",
        "        prob = prior[label]\n",
        "        for col in test_data.columns[:-1]:\n",
        "            value = row[col]\n",
        "            if value in cond_prob[(col, label)]:\n",
        "                prob *= cond_prob[(col, label)][value]\n",
        "            else:\n",
        "                prob *= 1 / (prior[label] * total + len(set(train_data[col])))\n",
        "        probs[label] = prob\n",
        "    predicted.append(max(probs, key=probs.get))\n",
        "\n",
        "# Evaluate the performance of the model\n",
        "actual = test_data['fraudulent'].tolist()\n",
        "tp = fp = tn = fn = 0\n",
        "for i in range(len(actual)):\n",
        "    if actual[i] == predicted[i]:\n",
        "        if actual[i] == 1:\n",
        "            tp += 1\n",
        "        else:\n",
        "            tn += 1\n",
        "    else:\n",
        "        if actual[i] == 1:\n",
        "            fn += 1\n",
        "        else:\n",
        "            fp += 1\n",
        "accuracy = (tp + tn) / (tp + fp + tn + fn)\n",
        "precision = tp / (tp + fp)\n",
        "recall = tp / (tp + fn)\n",
        "f1_score = 2 * precision * recall / (precision + recall)\n",
        "print('Accuracy:', accuracy)\n",
        "print('Precision:', precision)\n",
        "print('Recall:', recall)\n",
        "print('F1 Score:', f1_score)"
      ],
      "metadata": {
        "colab": {
          "base_uri": "https://localhost:8080/"
        },
        "id": "KiQpGZ4dZv7F",
        "outputId": "327a56f5-232d-44e7-a697-905196676b18"
      },
      "execution_count": null,
      "outputs": [
        {
          "output_type": "stream",
          "name": "stdout",
          "text": [
            "Accuracy: 0.9110738255033557\n",
            "Precision: 0.6582278481012658\n",
            "Recall: 0.15160349854227406\n",
            "F1 Score: 0.24644549763033174\n"
          ]
        }
      ]
    },
    {
      "cell_type": "code",
      "source": [
        "from sklearn.preprocessing import LabelEncoder\n",
        "le=LabelEncoder()"
      ],
      "metadata": {
        "id": "9NrWdDlzZ2gP"
      },
      "execution_count": null,
      "outputs": []
    },
    {
      "cell_type": "code",
      "source": [
        "col_list=list(df.columns)\n",
        "for i in col_list:\n",
        "    if df[i].dtype=='object':\n",
        "        df[i]=le.fit_transform(df[i])"
      ],
      "metadata": {
        "id": "5aGhrmGhZ5pE"
      },
      "execution_count": null,
      "outputs": []
    },
    {
      "cell_type": "code",
      "source": [
        "y=df['fraudulent']\n",
        "x=df.drop(['fraudulent'],axis=1)"
      ],
      "metadata": {
        "id": "mTCroE2FZ8zf"
      },
      "execution_count": null,
      "outputs": []
    },
    {
      "cell_type": "code",
      "source": [
        "from sklearn.model_selection import train_test_split\n",
        "x_train,x_test,y_train,y_test=train_test_split(x,y,random_state=0,test_size=0.2)"
      ],
      "metadata": {
        "id": "7tGj50F5aAZA"
      },
      "execution_count": null,
      "outputs": []
    },
    {
      "cell_type": "code",
      "source": [
        "from sklearn.metrics import accuracy_score, precision_score, recall_score, f1_score\n",
        "from sklearn.ensemble import RandomForestClassifier\n",
        "random_forest=RandomForestClassifier()\n",
        "random_forest.fit(x_train,y_train)"
      ],
      "metadata": {
        "colab": {
          "base_uri": "https://localhost:8080/",
          "height": 75
        },
        "id": "UeADJ17ZaB09",
        "outputId": "336a3aac-f8ab-4d92-9950-33c5ad558ce9"
      },
      "execution_count": null,
      "outputs": [
        {
          "output_type": "execute_result",
          "data": {
            "text/plain": [
              "RandomForestClassifier()"
            ],
            "text/html": [
              "<style>#sk-container-id-1 {color: black;background-color: white;}#sk-container-id-1 pre{padding: 0;}#sk-container-id-1 div.sk-toggleable {background-color: white;}#sk-container-id-1 label.sk-toggleable__label {cursor: pointer;display: block;width: 100%;margin-bottom: 0;padding: 0.3em;box-sizing: border-box;text-align: center;}#sk-container-id-1 label.sk-toggleable__label-arrow:before {content: \"▸\";float: left;margin-right: 0.25em;color: #696969;}#sk-container-id-1 label.sk-toggleable__label-arrow:hover:before {color: black;}#sk-container-id-1 div.sk-estimator:hover label.sk-toggleable__label-arrow:before {color: black;}#sk-container-id-1 div.sk-toggleable__content {max-height: 0;max-width: 0;overflow: hidden;text-align: left;background-color: #f0f8ff;}#sk-container-id-1 div.sk-toggleable__content pre {margin: 0.2em;color: black;border-radius: 0.25em;background-color: #f0f8ff;}#sk-container-id-1 input.sk-toggleable__control:checked~div.sk-toggleable__content {max-height: 200px;max-width: 100%;overflow: auto;}#sk-container-id-1 input.sk-toggleable__control:checked~label.sk-toggleable__label-arrow:before {content: \"▾\";}#sk-container-id-1 div.sk-estimator input.sk-toggleable__control:checked~label.sk-toggleable__label {background-color: #d4ebff;}#sk-container-id-1 div.sk-label input.sk-toggleable__control:checked~label.sk-toggleable__label {background-color: #d4ebff;}#sk-container-id-1 input.sk-hidden--visually {border: 0;clip: rect(1px 1px 1px 1px);clip: rect(1px, 1px, 1px, 1px);height: 1px;margin: -1px;overflow: hidden;padding: 0;position: absolute;width: 1px;}#sk-container-id-1 div.sk-estimator {font-family: monospace;background-color: #f0f8ff;border: 1px dotted black;border-radius: 0.25em;box-sizing: border-box;margin-bottom: 0.5em;}#sk-container-id-1 div.sk-estimator:hover {background-color: #d4ebff;}#sk-container-id-1 div.sk-parallel-item::after {content: \"\";width: 100%;border-bottom: 1px solid gray;flex-grow: 1;}#sk-container-id-1 div.sk-label:hover label.sk-toggleable__label {background-color: #d4ebff;}#sk-container-id-1 div.sk-serial::before {content: \"\";position: absolute;border-left: 1px solid gray;box-sizing: border-box;top: 0;bottom: 0;left: 50%;z-index: 0;}#sk-container-id-1 div.sk-serial {display: flex;flex-direction: column;align-items: center;background-color: white;padding-right: 0.2em;padding-left: 0.2em;position: relative;}#sk-container-id-1 div.sk-item {position: relative;z-index: 1;}#sk-container-id-1 div.sk-parallel {display: flex;align-items: stretch;justify-content: center;background-color: white;position: relative;}#sk-container-id-1 div.sk-item::before, #sk-container-id-1 div.sk-parallel-item::before {content: \"\";position: absolute;border-left: 1px solid gray;box-sizing: border-box;top: 0;bottom: 0;left: 50%;z-index: -1;}#sk-container-id-1 div.sk-parallel-item {display: flex;flex-direction: column;z-index: 1;position: relative;background-color: white;}#sk-container-id-1 div.sk-parallel-item:first-child::after {align-self: flex-end;width: 50%;}#sk-container-id-1 div.sk-parallel-item:last-child::after {align-self: flex-start;width: 50%;}#sk-container-id-1 div.sk-parallel-item:only-child::after {width: 0;}#sk-container-id-1 div.sk-dashed-wrapped {border: 1px dashed gray;margin: 0 0.4em 0.5em 0.4em;box-sizing: border-box;padding-bottom: 0.4em;background-color: white;}#sk-container-id-1 div.sk-label label {font-family: monospace;font-weight: bold;display: inline-block;line-height: 1.2em;}#sk-container-id-1 div.sk-label-container {text-align: center;}#sk-container-id-1 div.sk-container {/* jupyter's `normalize.less` sets `[hidden] { display: none; }` but bootstrap.min.css set `[hidden] { display: none !important; }` so we also need the `!important` here to be able to override the default hidden behavior on the sphinx rendered scikit-learn.org. See: https://github.com/scikit-learn/scikit-learn/issues/21755 */display: inline-block !important;position: relative;}#sk-container-id-1 div.sk-text-repr-fallback {display: none;}</style><div id=\"sk-container-id-1\" class=\"sk-top-container\"><div class=\"sk-text-repr-fallback\"><pre>RandomForestClassifier()</pre><b>In a Jupyter environment, please rerun this cell to show the HTML representation or trust the notebook. <br />On GitHub, the HTML representation is unable to render, please try loading this page with nbviewer.org.</b></div><div class=\"sk-container\" hidden><div class=\"sk-item\"><div class=\"sk-estimator sk-toggleable\"><input class=\"sk-toggleable__control sk-hidden--visually\" id=\"sk-estimator-id-1\" type=\"checkbox\" checked><label for=\"sk-estimator-id-1\" class=\"sk-toggleable__label sk-toggleable__label-arrow\">RandomForestClassifier</label><div class=\"sk-toggleable__content\"><pre>RandomForestClassifier()</pre></div></div></div></div></div>"
            ]
          },
          "metadata": {},
          "execution_count": 30
        }
      ]
    },
    {
      "cell_type": "code",
      "source": [
        "y_pred=random_forest.predict(x_test)\n",
        "\n",
        "accuracy = accuracy_score(y_test, y_pred)\n",
        "print(\"Accuracy:\", accuracy)\n",
        "\n",
        "precision = precision_score(y_test, y_pred, average='weighted')\n",
        "print(\"Precision:\", precision)\n",
        "\n",
        "recall = recall_score(y_test, y_pred, average='weighted')\n",
        "print(\"Recall:\", recall)\n",
        "\n",
        "f1 = f1_score(y_test, y_pred, average='weighted')\n",
        "print(\"F1-score:\", f1)"
      ],
      "metadata": {
        "colab": {
          "base_uri": "https://localhost:8080/"
        },
        "id": "K3IDMoiyaFjI",
        "outputId": "e83e5e2e-ce70-4f9c-e0d8-9c6dc09caa23"
      },
      "execution_count": null,
      "outputs": [
        {
          "output_type": "stream",
          "name": "stdout",
          "text": [
            "Accuracy: 0.977069351230425\n",
            "Precision: 0.975911884635275\n",
            "Recall: 0.977069351230425\n",
            "F1-score: 0.9739063070718713\n"
          ]
        }
      ]
    },
    {
      "cell_type": "code",
      "execution_count": null,
      "metadata": {
        "id": "L1zQlOAfJ6-P"
      },
      "outputs": [],
      "source": [
        "# balance the dataset\n",
        "df_real = df[df[\"fraudulent\"] == 0]\n",
        "df_fake = df[df[\"fraudulent\"] == 1].sample(n=len(df_real), random_state=42,replace=True)\n",
        "df = pd.concat([df_real, df_fake], axis=0).reset_index(drop=True)"
      ]
    },
    {
      "cell_type": "code",
      "execution_count": null,
      "metadata": {
        "id": "LpRqZGoJJ6-P",
        "colab": {
          "base_uri": "https://localhost:8080/"
        },
        "outputId": "ad9de6a1-aa0a-4006-b3a9-00e93ad82936"
      },
      "outputs": [
        {
          "output_type": "execute_result",
          "data": {
            "text/plain": [
              "17014"
            ]
          },
          "metadata": {},
          "execution_count": 33
        }
      ],
      "source": [
        "len(df_fake.index)"
      ]
    },
    {
      "cell_type": "code",
      "execution_count": null,
      "metadata": {
        "id": "qMHbOOzxJ6-P",
        "outputId": "7547bc6f-8fa9-467c-f9f8-6a12e1199ae2",
        "colab": {
          "base_uri": "https://localhost:8080/"
        }
      },
      "outputs": [
        {
          "output_type": "execute_result",
          "data": {
            "text/plain": [
              "17014"
            ]
          },
          "metadata": {},
          "execution_count": 34
        }
      ],
      "source": [
        "len(df_real.index)"
      ]
    },
    {
      "cell_type": "code",
      "execution_count": null,
      "metadata": {
        "colab": {
          "base_uri": "https://localhost:8080/",
          "height": 206
        },
        "id": "8LEECLTXXHqM",
        "outputId": "4d74e6de-368e-438a-eaeb-98916e50c9f0"
      },
      "outputs": [
        {
          "output_type": "execute_result",
          "data": {
            "text/plain": [
              "   telecommuting  has_company_logo  has_questions  employment_type  \\\n",
              "0              0                 1              0                3   \n",
              "1              0                 1              0                2   \n",
              "2              0                 1              0                0   \n",
              "3              0                 1              0                2   \n",
              "4              0                 1              1                2   \n",
              "\n",
              "   required_experience  required_education  industry  function  fraudulent  \n",
              "0                    5                   0         0        23           0  \n",
              "1                    7                   0        76         8           0  \n",
              "2                    0                   0         0         0           0  \n",
              "3                    6                   2        23        32           0  \n",
              "4                    6                   2        52        17           0  "
            ],
            "text/html": [
              "\n",
              "  <div id=\"df-cabb5109-60a7-4c0c-a53d-8581ec78f760\">\n",
              "    <div class=\"colab-df-container\">\n",
              "      <div>\n",
              "<style scoped>\n",
              "    .dataframe tbody tr th:only-of-type {\n",
              "        vertical-align: middle;\n",
              "    }\n",
              "\n",
              "    .dataframe tbody tr th {\n",
              "        vertical-align: top;\n",
              "    }\n",
              "\n",
              "    .dataframe thead th {\n",
              "        text-align: right;\n",
              "    }\n",
              "</style>\n",
              "<table border=\"1\" class=\"dataframe\">\n",
              "  <thead>\n",
              "    <tr style=\"text-align: right;\">\n",
              "      <th></th>\n",
              "      <th>telecommuting</th>\n",
              "      <th>has_company_logo</th>\n",
              "      <th>has_questions</th>\n",
              "      <th>employment_type</th>\n",
              "      <th>required_experience</th>\n",
              "      <th>required_education</th>\n",
              "      <th>industry</th>\n",
              "      <th>function</th>\n",
              "      <th>fraudulent</th>\n",
              "    </tr>\n",
              "  </thead>\n",
              "  <tbody>\n",
              "    <tr>\n",
              "      <th>0</th>\n",
              "      <td>0</td>\n",
              "      <td>1</td>\n",
              "      <td>0</td>\n",
              "      <td>3</td>\n",
              "      <td>5</td>\n",
              "      <td>0</td>\n",
              "      <td>0</td>\n",
              "      <td>23</td>\n",
              "      <td>0</td>\n",
              "    </tr>\n",
              "    <tr>\n",
              "      <th>1</th>\n",
              "      <td>0</td>\n",
              "      <td>1</td>\n",
              "      <td>0</td>\n",
              "      <td>2</td>\n",
              "      <td>7</td>\n",
              "      <td>0</td>\n",
              "      <td>76</td>\n",
              "      <td>8</td>\n",
              "      <td>0</td>\n",
              "    </tr>\n",
              "    <tr>\n",
              "      <th>2</th>\n",
              "      <td>0</td>\n",
              "      <td>1</td>\n",
              "      <td>0</td>\n",
              "      <td>0</td>\n",
              "      <td>0</td>\n",
              "      <td>0</td>\n",
              "      <td>0</td>\n",
              "      <td>0</td>\n",
              "      <td>0</td>\n",
              "    </tr>\n",
              "    <tr>\n",
              "      <th>3</th>\n",
              "      <td>0</td>\n",
              "      <td>1</td>\n",
              "      <td>0</td>\n",
              "      <td>2</td>\n",
              "      <td>6</td>\n",
              "      <td>2</td>\n",
              "      <td>23</td>\n",
              "      <td>32</td>\n",
              "      <td>0</td>\n",
              "    </tr>\n",
              "    <tr>\n",
              "      <th>4</th>\n",
              "      <td>0</td>\n",
              "      <td>1</td>\n",
              "      <td>1</td>\n",
              "      <td>2</td>\n",
              "      <td>6</td>\n",
              "      <td>2</td>\n",
              "      <td>52</td>\n",
              "      <td>17</td>\n",
              "      <td>0</td>\n",
              "    </tr>\n",
              "  </tbody>\n",
              "</table>\n",
              "</div>\n",
              "      <button class=\"colab-df-convert\" onclick=\"convertToInteractive('df-cabb5109-60a7-4c0c-a53d-8581ec78f760')\"\n",
              "              title=\"Convert this dataframe to an interactive table.\"\n",
              "              style=\"display:none;\">\n",
              "        \n",
              "  <svg xmlns=\"http://www.w3.org/2000/svg\" height=\"24px\"viewBox=\"0 0 24 24\"\n",
              "       width=\"24px\">\n",
              "    <path d=\"M0 0h24v24H0V0z\" fill=\"none\"/>\n",
              "    <path d=\"M18.56 5.44l.94 2.06.94-2.06 2.06-.94-2.06-.94-.94-2.06-.94 2.06-2.06.94zm-11 1L8.5 8.5l.94-2.06 2.06-.94-2.06-.94L8.5 2.5l-.94 2.06-2.06.94zm10 10l.94 2.06.94-2.06 2.06-.94-2.06-.94-.94-2.06-.94 2.06-2.06.94z\"/><path d=\"M17.41 7.96l-1.37-1.37c-.4-.4-.92-.59-1.43-.59-.52 0-1.04.2-1.43.59L10.3 9.45l-7.72 7.72c-.78.78-.78 2.05 0 2.83L4 21.41c.39.39.9.59 1.41.59.51 0 1.02-.2 1.41-.59l7.78-7.78 2.81-2.81c.8-.78.8-2.07 0-2.86zM5.41 20L4 18.59l7.72-7.72 1.47 1.35L5.41 20z\"/>\n",
              "  </svg>\n",
              "      </button>\n",
              "      \n",
              "  <style>\n",
              "    .colab-df-container {\n",
              "      display:flex;\n",
              "      flex-wrap:wrap;\n",
              "      gap: 12px;\n",
              "    }\n",
              "\n",
              "    .colab-df-convert {\n",
              "      background-color: #E8F0FE;\n",
              "      border: none;\n",
              "      border-radius: 50%;\n",
              "      cursor: pointer;\n",
              "      display: none;\n",
              "      fill: #1967D2;\n",
              "      height: 32px;\n",
              "      padding: 0 0 0 0;\n",
              "      width: 32px;\n",
              "    }\n",
              "\n",
              "    .colab-df-convert:hover {\n",
              "      background-color: #E2EBFA;\n",
              "      box-shadow: 0px 1px 2px rgba(60, 64, 67, 0.3), 0px 1px 3px 1px rgba(60, 64, 67, 0.15);\n",
              "      fill: #174EA6;\n",
              "    }\n",
              "\n",
              "    [theme=dark] .colab-df-convert {\n",
              "      background-color: #3B4455;\n",
              "      fill: #D2E3FC;\n",
              "    }\n",
              "\n",
              "    [theme=dark] .colab-df-convert:hover {\n",
              "      background-color: #434B5C;\n",
              "      box-shadow: 0px 1px 3px 1px rgba(0, 0, 0, 0.15);\n",
              "      filter: drop-shadow(0px 1px 2px rgba(0, 0, 0, 0.3));\n",
              "      fill: #FFFFFF;\n",
              "    }\n",
              "  </style>\n",
              "\n",
              "      <script>\n",
              "        const buttonEl =\n",
              "          document.querySelector('#df-cabb5109-60a7-4c0c-a53d-8581ec78f760 button.colab-df-convert');\n",
              "        buttonEl.style.display =\n",
              "          google.colab.kernel.accessAllowed ? 'block' : 'none';\n",
              "\n",
              "        async function convertToInteractive(key) {\n",
              "          const element = document.querySelector('#df-cabb5109-60a7-4c0c-a53d-8581ec78f760');\n",
              "          const dataTable =\n",
              "            await google.colab.kernel.invokeFunction('convertToInteractive',\n",
              "                                                     [key], {});\n",
              "          if (!dataTable) return;\n",
              "\n",
              "          const docLinkHtml = 'Like what you see? Visit the ' +\n",
              "            '<a target=\"_blank\" href=https://colab.research.google.com/notebooks/data_table.ipynb>data table notebook</a>'\n",
              "            + ' to learn more about interactive tables.';\n",
              "          element.innerHTML = '';\n",
              "          dataTable['output_type'] = 'display_data';\n",
              "          await google.colab.output.renderOutput(dataTable, element);\n",
              "          const docLink = document.createElement('div');\n",
              "          docLink.innerHTML = docLinkHtml;\n",
              "          element.appendChild(docLink);\n",
              "        }\n",
              "      </script>\n",
              "    </div>\n",
              "  </div>\n",
              "  "
            ]
          },
          "metadata": {},
          "execution_count": 35
        }
      ],
      "source": [
        "df.head()"
      ]
    },
    {
      "cell_type": "code",
      "execution_count": null,
      "metadata": {
        "id": "lredS6V7J6-Q",
        "outputId": "74ebf321-c863-4d02-ea85-49770352e827",
        "colab": {
          "base_uri": "https://localhost:8080/",
          "height": 359
        }
      },
      "outputs": [
        {
          "output_type": "display_data",
          "data": {
            "text/plain": [
              "<Figure size 432x288 with 1 Axes>"
            ],
            "image/png": "[encoded data removed]"
          },
          "metadata": {
            "needs_background": "light"
          }
        }
      ],
      "source": [
        "# Count the number of samples in each class\n",
        "class_counts = df[\"fraudulent\"].value_counts()\n",
        "\n",
        "# Create a bar plot of the class counts\n",
        "class_counts.plot(kind=\"bar\")\n",
        "plt.title(\"Class Distribution After Balancing\")\n",
        "plt.xlabel(\"Class\")\n",
        "plt.ylabel(\"Count\")\n",
        "plt.xticks([0, 1], [\"Not Fraudulent\", \"Fraudulent\"])\n",
        "plt.show()"
      ]
    },
    {
      "cell_type": "code",
      "execution_count": null,
      "metadata": {
        "id": "QePkmDd0XVDi"
      },
      "outputs": [],
      "source": [
        "# Naive Bayes from scratch\n",
        "# Split the data into training and testing sets\n",
        "train_size = int(len(df) * 0.8)\n",
        "train_data = df[:train_size]\n",
        "test_data = df[train_size:]"
      ]
    },
    {
      "cell_type": "code",
      "execution_count": null,
      "metadata": {
        "colab": {
          "base_uri": "https://localhost:8080/"
        },
        "id": "mhDSElNMXb_8",
        "outputId": "8f52fdfd-2ac9-444b-86fb-2fe338d85a70"
      },
      "outputs": [
        {
          "output_type": "execute_result",
          "data": {
            "text/plain": [
              "34028"
            ]
          },
          "metadata": {},
          "execution_count": 38
        }
      ],
      "source": [
        "len(df. index)"
      ]
    },
    {
      "cell_type": "code",
      "execution_count": null,
      "metadata": {
        "colab": {
          "base_uri": "https://localhost:8080/"
        },
        "id": "Iabdu-bIXobY",
        "outputId": "eeb21ee2-dcd3-4a97-d7b7-86389fb27d5b"
      },
      "outputs": [
        {
          "output_type": "execute_result",
          "data": {
            "text/plain": [
              "27222"
            ]
          },
          "metadata": {},
          "execution_count": 39
        }
      ],
      "source": [
        "len(train_data. index)"
      ]
    },
    {
      "cell_type": "code",
      "execution_count": null,
      "metadata": {
        "colab": {
          "base_uri": "https://localhost:8080/"
        },
        "id": "sFOmwmcFXtEX",
        "outputId": "a373ac11-105d-4c3b-e236-8d387160489d"
      },
      "outputs": [
        {
          "output_type": "execute_result",
          "data": {
            "text/plain": [
              "6806"
            ]
          },
          "metadata": {},
          "execution_count": 40
        }
      ],
      "source": [
        "len(test_data. index)"
      ]
    },
    {
      "cell_type": "code",
      "execution_count": null,
      "metadata": {
        "id": "a844_W-YXvgm"
      },
      "outputs": [],
      "source": [
        "# Calculate the prior probabilities for each class\n",
        "prior = {}\n",
        "total = len(train_data)\n",
        "for i in range(total):\n",
        "    label = train_data.iloc[i]['fraudulent']\n",
        "    if label in prior:\n",
        "        prior[label] += 1\n",
        "    else:\n",
        "        prior[label] = 1\n",
        "for label in prior:\n",
        "    prior[label] /= total"
      ]
    },
    {
      "cell_type": "code",
      "execution_count": null,
      "metadata": {
        "colab": {
          "base_uri": "https://localhost:8080/"
        },
        "id": "ZbfshAVqXyeK",
        "outputId": "74ff3a41-4083-442d-a856-3ac88be033c0"
      },
      "outputs": [
        {
          "output_type": "execute_result",
          "data": {
            "text/plain": [
              "{0: 0.6250091837484387, 1: 0.3749908162515612}"
            ]
          },
          "metadata": {},
          "execution_count": 42
        }
      ],
      "source": [
        "prior"
      ]
    },
    {
      "cell_type": "code",
      "execution_count": null,
      "metadata": {
        "id": "qVxlznVLX1AX"
      },
      "outputs": [],
      "source": [
        "# Calculate the conditional probabilities for each feature\n",
        "cond_prob = {}\n",
        "for col in train_data.columns[:-1]:\n",
        "#     print(col)\n",
        "    for label in prior:\n",
        "        cond_prob[(col, label)] = {}\n",
        "        for value in set(train_data[col]):\n",
        "            count = len(train_data[(train_data[col] == value) & (train_data['fraudulent'] == label)])\n",
        "            cond_prob[(col, label)][value] = (count + 1) / (prior[label] * total + len(set(train_data[col])))"
      ]
    },
    {
      "cell_type": "code",
      "execution_count": null,
      "metadata": {
        "colab": {
          "base_uri": "https://localhost:8080/"
        },
        "id": "XURq27tmX7Rr",
        "outputId": "93f69f57-62fc-4d9b-eb4c-6c1b29830a17"
      },
      "outputs": [
        {
          "output_type": "execute_result",
          "data": {
            "text/plain": [
              "{('telecommuting', 0): {0: 0.9586271744240714, 1: 0.041372825575928536},\n",
              " ('telecommuting', 1): {0: 0.9243878550440744, 1: 0.07561214495592557},\n",
              " ('has_company_logo', 0): {0: 0.1808885754583921, 1: 0.8191114245416079},\n",
              " ('has_company_logo', 1): {0: 0.667384916748286, 1: 0.332615083251714},\n",
              " ('has_questions', 0): {0: 0.4979431123648331, 1: 0.5020568876351669},\n",
              " ('has_questions', 1): {0: 0.7134182174338883, 1: 0.28658178256611166},\n",
              " ('employment_type', 0): {0: 0.18983548766157463,\n",
              "  1: 0.08701527614571093,\n",
              "  2: 0.6539952996474736,\n",
              "  3: 0.012514688601645124,\n",
              "  4: 0.04253819036427732,\n",
              "  5: 0.01410105757931845},\n",
              " ('employment_type', 1): {0: 0.28069316624241236,\n",
              "  1: 0.052966516545917365,\n",
              "  2: 0.5656941452907773,\n",
              "  3: 0.01576267867632661,\n",
              "  4: 0.08292539651458782,\n",
              "  5: 0.001958096729978461},\n",
              " ('required_experience', 0): {0: 0.3886734813770415,\n",
              "  1: 0.1325343672893902,\n",
              "  2: 0.02191281870520503,\n",
              "  3: 0.14798496063917282,\n",
              "  4: 0.007754670426506873,\n",
              "  5: 0.021854071201973916,\n",
              "  6: 0.21718951944542356,\n",
              "  7: 0.0620961109152861},\n",
              " ('required_experience', 1): {0: 0.5054815974941269,\n",
              "  1: 0.046006264682850434,\n",
              "  2: 0.020653876272513704,\n",
              "  3: 0.20888801879404856,\n",
              "  4: 0.011550509005481598,\n",
              "  5: 0.01360610806577917,\n",
              "  6: 0.1288175411119812,\n",
              "  7: 0.06499608457321848},\n",
              " ('required_education', 0): {0: 0.44955367629786236,\n",
              "  1: 0.015797509983556494,\n",
              "  2: 0.2963354474982382,\n",
              "  3: 0.008926474042753112,\n",
              "  4: 0.001526896875734085,\n",
              "  5: 0.11222692036645525,\n",
              "  6: 0.02266854592435988,\n",
              "  7: 0.004169603006812309,\n",
              "  8: 0.005872680291284942,\n",
              "  9: 0.0004698144233027954,\n",
              "  10: 0.07851773549447968,\n",
              "  11: 0.002936340145642471,\n",
              "  12: 0.000411087620389946,\n",
              "  13: 0.0005872680291284943},\n",
              " ('required_education', 1): {0: 0.5208374095089023,\n",
              "  1: 0.006652318528663667,\n",
              "  2: 0.1181764820974369,\n",
              "  3: 0.01858736059479554,\n",
              "  4: 0.001271766777538642,\n",
              "  5: 0.20045000978282138,\n",
              "  6: 0.03375073371160243,\n",
              "  7: 0.005087067110154568,\n",
              "  8: 0.0024457053414204655,\n",
              "  9: 0.022402660927411465,\n",
              "  10: 0.07004500097828213,\n",
              "  11: 9.782821365681862e-05,\n",
              "  12: 9.782821365681862e-05,\n",
              "  13: 9.782821365681862e-05},\n",
              " ('industry', 0): {0: 0.26997550449084334,\n",
              "  1: 0.006007232007465298,\n",
              "  2: 0.003674326373498192,\n",
              "  3: 0.00011664528169835531,\n",
              "  4: 0.00023329056339671062,\n",
              "  5: 0.005598973521521055,\n",
              "  6: 0.0006415490493409541,\n",
              "  7: 0.006765426338504608,\n",
              "  8: 0.0014580660212294412,\n",
              "  9: 0.004782456549632568,\n",
              "  10: 0.002041292429721218,\n",
              "  11: 0.0029161320424588824,\n",
              "  12: 0.004549165986235857,\n",
              "  13: 0.0009331622535868425,\n",
              "  14: 0.0003499358450950659,\n",
              "  15: 0.001341420739531086,\n",
              "  16: 0.003207745246704771,\n",
              "  17: 0.0005249037676425989,\n",
              "  18: 0.00029161320424588824,\n",
              "  19: 0.0026245188382129944,\n",
              "  20: 0.005074069753878456,\n",
              "  21: 0.0019246471480228624,\n",
              "  22: 0.0019246471480228624,\n",
              "  23: 0.08001866324507173,\n",
              "  24: 0.009098331972471714,\n",
              "  25: 0.003674326373498192,\n",
              "  26: 0.003674326373498192,\n",
              "  27: 0.019538084684474512,\n",
              "  28: 0.0037909716551965474,\n",
              "  29: 0.00046658112679342123,\n",
              "  30: 0.007348652746996384,\n",
              "  31: 0.008048524437186516,\n",
              "  32: 0.047999533418873204,\n",
              "  33: 0.004082584859442436,\n",
              "  34: 0.004082584859442436,\n",
              "  35: 0.0027411641199113494,\n",
              "  36: 0.0029744546833080604,\n",
              "  37: 0.00040825848594424355,\n",
              "  38: 0.005424005598973522,\n",
              "  39: 0.0014580660212294412,\n",
              "  40: 0.04345036743263735,\n",
              "  41: 0.00029161320424588824,\n",
              "  42: 0.004257552781989969,\n",
              "  43: 0.0025661961973638165,\n",
              "  44: 0.00099148489443602,\n",
              "  45: 0.00023329056339671062,\n",
              "  46: 0.002507873556514639,\n",
              "  47: 0.001341420739531086,\n",
              "  48: 0.0006998716901901318,\n",
              "  49: 0.0019246471480228624,\n",
              "  50: 0.006590458415957075,\n",
              "  51: 0.0006998716901901318,\n",
              "  52: 0.02607022045958241,\n",
              "  53: 0.004374198063688324,\n",
              "  54: 0.006007232007465298,\n",
              "  55: 0.0003499358450950659,\n",
              "  56: 0.0005832264084917765,\n",
              "  57: 0.00046658112679342123,\n",
              "  58: 0.0015747113029277965,\n",
              "  59: 0.09932345736614955,\n",
              "  60: 0.006882071620202963,\n",
              "  61: 0.0005249037676425989,\n",
              "  62: 0.06199696722267584,\n",
              "  63: 0.00029161320424588824,\n",
              "  64: 0.0003499358450950659,\n",
              "  65: 0.0006415490493409541,\n",
              "  66: 0.001166452816983553,\n",
              "  67: 0.00571561880321941,\n",
              "  68: 0.0032660678875539484,\n",
              "  69: 0.00017496792254753296,\n",
              "  70: 0.006473813134258719,\n",
              "  71: 0.00029161320424588824,\n",
              "  72: 0.0006998716901901318,\n",
              "  73: 0.007290330106147207,\n",
              "  74: 0.00023329056339671062,\n",
              "  75: 0.0030910999650064154,\n",
              "  76: 0.04572495042575528,\n",
              "  77: 0.00198296978887204,\n",
              "  78: 0.002682841479062172,\n",
              "  79: 0.0011081301761343755,\n",
              "  80: 0.003499358450950659,\n",
              "  81: 0.0013997433803802637,\n",
              "  82: 0.00011664528169835531,\n",
              "  83: 0.00023329056339671062,\n",
              "  84: 0.00040825848594424355,\n",
              "  85: 0.00011664528169835531,\n",
              "  86: 0.0006415490493409541,\n",
              "  87: 0.00017496792254753296,\n",
              "  88: 0.004490843345386679,\n",
              "  89: 0.010439752712002799,\n",
              "  90: 0.005890586725766943,\n",
              "  91: 0.0011081301761343755,\n",
              "  92: 0.0003499358450950659,\n",
              "  93: 0.0003499358450950659,\n",
              "  94: 0.00023329056339671062,\n",
              "  95: 0.002507873556514639,\n",
              "  96: 0.00029161320424588824,\n",
              "  97: 0.00046658112679342123,\n",
              "  98: 0.00023329056339671062,\n",
              "  99: 0.00040825848594424355,\n",
              "  100: 0.0018080018663245072,\n",
              "  101: 0.0008748396127376647,\n",
              "  102: 0.0005832264084917765,\n",
              "  103: 0.00023329056339671062,\n",
              "  104: 0.0034410358101014814,\n",
              "  105: 0.00040825848594424355,\n",
              "  106: 0.002332905633967106,\n",
              "  107: 5.8322640849177654e-05,\n",
              "  108: 0.008865041409075004,\n",
              "  109: 0.00040825848594424355,\n",
              "  110: 0.0005832264084917765,\n",
              "  111: 0.0017496792254753295,\n",
              "  112: 0.0030910999650064154,\n",
              "  113: 0.012772658345969905,\n",
              "  114: 0.0017496792254753295,\n",
              "  115: 0.0006998716901901318,\n",
              "  116: 0.00011664528169835531,\n",
              "  117: 0.00011664528169835531,\n",
              "  118: 0.0013997433803802637,\n",
              "  119: 0.006998716901901318,\n",
              "  120: 0.018488277149189315,\n",
              "  121: 0.00017496792254753296,\n",
              "  122: 0.0006415490493409541,\n",
              "  123: 0.0029744546833080604,\n",
              "  124: 0.0019246471480228624,\n",
              "  125: 0.0017496792254753295,\n",
              "  126: 0.0005249037676425989,\n",
              "  127: 0.0029744546833080604,\n",
              "  128: 0.0006415490493409541,\n",
              "  129: 0.00011664528169835531,\n",
              "  130: 0.00029161320424588824,\n",
              "  131: 0.001166452816983553},\n",
              " ('industry', 1): {0: 0.31199226305609284,\n",
              "  1: 0.06305609284332689,\n",
              "  2: 0.0012572533849129594,\n",
              "  3: 9.671179883945841e-05,\n",
              "  4: 0.0023210831721470018,\n",
              "  5: 0.0017408123791102514,\n",
              "  6: 9.671179883945841e-05,\n",
              "  7: 0.006479690522243713,\n",
              "  8: 9.671179883945841e-05,\n",
              "  9: 0.0033849129593810446,\n",
              "  10: 0.005415860735009671,\n",
              "  11: 0.0013539651837524177,\n",
              "  12: 0.0019342359767891683,\n",
              "  13: 0.004448742746615087,\n",
              "  14: 9.671179883945841e-05,\n",
              "  15: 9.671179883945841e-05,\n",
              "  16: 0.0013539651837524177,\n",
              "  17: 0.0014506769825918763,\n",
              "  18: 9.671179883945841e-05,\n",
              "  19: 0.0065764023210831725,\n",
              "  20: 9.671179883945841e-05,\n",
              "  21: 0.0031914893617021275,\n",
              "  22: 0.013152804642166345,\n",
              "  23: 0.005222437137330754,\n",
              "  24: 0.0032882011605415862,\n",
              "  25: 9.671179883945841e-05,\n",
              "  26: 0.0012572533849129594,\n",
              "  27: 0.028820116054158608,\n",
              "  28: 0.0007736943907156673,\n",
              "  29: 0.002514506769825919,\n",
              "  30: 0.003578336557059961,\n",
              "  31: 0.002514506769825919,\n",
              "  32: 9.671179883945841e-05,\n",
              "  33: 0.0038684719535783366,\n",
              "  34: 0.006769825918762089,\n",
              "  35: 0.003481624758220503,\n",
              "  36: 9.671179883945841e-05,\n",
              "  37: 0.002611218568665377,\n",
              "  38: 0.0023210831721470018,\n",
              "  39: 9.671179883945841e-05,\n",
              "  40: 0.037911025145067695,\n",
              "  41: 9.671179883945841e-05,\n",
              "  42: 9.671179883945841e-05,\n",
              "  43: 0.0011605415860735009,\n",
              "  44: 9.671179883945841e-05,\n",
              "  45: 9.671179883945841e-05,\n",
              "  46: 9.671179883945841e-05,\n",
              "  47: 9.671179883945841e-05,\n",
              "  48: 9.671179883945841e-05,\n",
              "  49: 9.671179883945841e-05,\n",
              "  50: 0.015957446808510637,\n",
              "  51: 9.671179883945841e-05,\n",
              "  52: 0.05638297872340425,\n",
              "  53: 0.014313346228239845,\n",
              "  54: 0.008607350096711798,\n",
              "  55: 9.671179883945841e-05,\n",
              "  56: 9.671179883945841e-05,\n",
              "  57: 9.671179883945841e-05,\n",
              "  58: 0.002030947775628627,\n",
              "  59: 0.03665377176015474,\n",
              "  60: 0.007253384912959381,\n",
              "  61: 9.671179883945841e-05,\n",
              "  62: 9.671179883945841e-05,\n",
              "  63: 9.671179883945841e-05,\n",
              "  64: 0.0015473887814313346,\n",
              "  65: 9.671179883945841e-05,\n",
              "  66: 9.671179883945841e-05,\n",
              "  67: 9.671179883945841e-05,\n",
              "  68: 0.024854932301740813,\n",
              "  69: 9.671179883945841e-05,\n",
              "  70: 0.0027079303675048355,\n",
              "  71: 9.671179883945841e-05,\n",
              "  72: 9.671179883945841e-05,\n",
              "  73: 0.007156673114119922,\n",
              "  74: 9.671179883945841e-05,\n",
              "  75: 0.0029013539651837525,\n",
              "  76: 0.05135396518375242,\n",
              "  77: 0.004061895551257254,\n",
              "  78: 0.003094777562862669,\n",
              "  79: 0.0015473887814313346,\n",
              "  80: 0.0014506769825918763,\n",
              "  81: 9.671179883945841e-05,\n",
              "  82: 0.0007736943907156673,\n",
              "  83: 9.671179883945841e-05,\n",
              "  84: 9.671179883945841e-05,\n",
              "  85: 9.671179883945841e-05,\n",
              "  86: 9.671179883945841e-05,\n",
              "  87: 9.671179883945841e-05,\n",
              "  88: 9.671179883945841e-05,\n",
              "  89: 0.12852998065764024,\n",
              "  90: 0.0014506769825918763,\n",
              "  91: 0.0012572533849129594,\n",
              "  92: 9.671179883945841e-05,\n",
              "  93: 9.671179883945841e-05,\n",
              "  94: 9.671179883945841e-05,\n",
              "  95: 9.671179883945841e-05,\n",
              "  96: 9.671179883945841e-05,\n",
              "  97: 9.671179883945841e-05,\n",
              "  98: 9.671179883945841e-05,\n",
              "  99: 9.671179883945841e-05,\n",
              "  100: 9.671179883945841e-05,\n",
              "  101: 9.671179883945841e-05,\n",
              "  102: 9.671179883945841e-05,\n",
              "  103: 9.671179883945841e-05,\n",
              "  104: 9.671179883945841e-05,\n",
              "  105: 0.002030947775628627,\n",
              "  106: 9.671179883945841e-05,\n",
              "  107: 0.0007736943907156673,\n",
              "  108: 0.031141199226305608,\n",
              "  109: 9.671179883945841e-05,\n",
              "  110: 9.671179883945841e-05,\n",
              "  111: 9.671179883945841e-05,\n",
              "  112: 9.671179883945841e-05,\n",
              "  113: 0.005029013539651838,\n",
              "  114: 0.0010638297872340426,\n",
              "  115: 9.671179883945841e-05,\n",
              "  116: 9.671179883945841e-05,\n",
              "  117: 9.671179883945841e-05,\n",
              "  118: 9.671179883945841e-05,\n",
              "  119: 0.008800773694390716,\n",
              "  120: 0.027176015473887816,\n",
              "  121: 9.671179883945841e-05,\n",
              "  122: 9.671179883945841e-05,\n",
              "  123: 0.0037717601547388783,\n",
              "  124: 0.0012572533849129594,\n",
              "  125: 9.671179883945841e-05,\n",
              "  126: 9.671179883945841e-05,\n",
              "  127: 0.002127659574468085,\n",
              "  128: 0.0010638297872340426,\n",
              "  129: 9.671179883945841e-05,\n",
              "  130: 9.671179883945841e-05,\n",
              "  131: 9.671179883945841e-05},\n",
              " ('function', 0): {0: 0.358843537414966,\n",
              "  1: 0.010790523105794042,\n",
              "  2: 0.0300258034248182,\n",
              "  3: 0.005043396669012433,\n",
              "  4: 0.007741027445460943,\n",
              "  5: 0.0049261083743842365,\n",
              "  6: 0.012667135819845179,\n",
              "  7: 0.008268824771287826,\n",
              "  8: 0.06820314332629604,\n",
              "  9: 0.004632887637813746,\n",
              "  10: 0.019821721792165143,\n",
              "  11: 0.0012901712409101572,\n",
              "  12: 0.019059347877081866,\n",
              "  13: 0.07248416608022519,\n",
              "  14: 0.009265775275627492,\n",
              "  15: 0.0017006802721088435,\n",
              "  16: 0.003987802017358668,\n",
              "  17: 0.019821721792165143,\n",
              "  18: 0.011552897020877317,\n",
              "  19: 0.10075064508562045,\n",
              "  20: 0.0028149190710767065,\n",
              "  21: 0.018296973961998593,\n",
              "  22: 0.004281022753929158,\n",
              "  23: 0.0481468449448745,\n",
              "  24: 0.017241379310344827,\n",
              "  25: 0.006744076941121276,\n",
              "  26: 0.006861365235749472,\n",
              "  27: 0.01020408163265306,\n",
              "  28: 0.004456955195871452,\n",
              "  29: 0.0009383063570255688,\n",
              "  30: 0.006568144499178982,\n",
              "  31: 0.0029908515130190006,\n",
              "  32: 0.08374384236453201,\n",
              "  33: 0.0008796622097114708,\n",
              "  34: 0.0026976307764485104,\n",
              "  35: 0.002169833450621628,\n",
              "  36: 0.002287121745249824,\n",
              "  37: 0.007799671592775041},\n",
              " ('function', 1): {0: 0.38737068124146007,\n",
              "  1: 0.03777083739996096,\n",
              "  2: 0.1331251219988288,\n",
              "  3: 0.005758344719890689,\n",
              "  4: 0.0007807925043919579,\n",
              "  5: 0.001073589693538942,\n",
              "  6: 0.015323052898692173,\n",
              "  7: 0.0045871559633027525,\n",
              "  8: 0.08003123170017568,\n",
              "  9: 0.004684755026351747,\n",
              "  10: 0.002439976576224868,\n",
              "  11: 0.004196759711106774,\n",
              "  12: 0.0013663868826859261,\n",
              "  13: 0.13107554167479993,\n",
              "  14: 0.01707983603357408,\n",
              "  15: 0.004977552215498731,\n",
              "  16: 0.0009759906304899473,\n",
              "  17: 0.0009759906304899473,\n",
              "  18: 0.012004684755026352,\n",
              "  19: 0.03494046457154011,\n",
              "  20: 9.759906304899473e-05,\n",
              "  21: 0.005855943782939684,\n",
              "  22: 0.002147179387077884,\n",
              "  23: 0.01259027913332032,\n",
              "  24: 0.03630685145422604,\n",
              "  25: 9.759906304899473e-05,\n",
              "  26: 9.759906304899473e-05,\n",
              "  27: 0.011907085691977357,\n",
              "  28: 0.0020495803240288893,\n",
              "  29: 9.759906304899473e-05,\n",
              "  30: 9.759906304899473e-05,\n",
              "  31: 9.759906304899473e-05,\n",
              "  32: 0.04645715401132149,\n",
              "  33: 9.759906304899473e-05,\n",
              "  34: 0.0011711887565879367,\n",
              "  35: 9.759906304899473e-05,\n",
              "  36: 9.759906304899473e-05,\n",
              "  37: 9.759906304899473e-05}}"
            ]
          },
          "metadata": {},
          "execution_count": 44
        }
      ],
      "source": [
        "cond_prob"
      ]
    },
    {
      "cell_type": "code",
      "execution_count": null,
      "metadata": {
        "colab": {
          "base_uri": "https://localhost:8080/"
        },
        "id": "V5aP0FQ4YA6I",
        "outputId": "126fe4c9-d92c-4562-b90e-e0b9b9b08df3"
      },
      "outputs": [
        {
          "output_type": "stream",
          "name": "stdout",
          "text": [
            "Accuracy: 0.7475756685277696\n",
            "Precision: 1.0\n",
            "Recall: 0.7475756685277696\n",
            "F1 Score: 0.8555574239112158\n"
          ]
        }
      ],
      "source": [
        "# Predict the labels for the testing set\n",
        "predicted = []\n",
        "for i in range(len(test_data)):\n",
        "    row = test_data.iloc[i]\n",
        "    probs = {}\n",
        "    for label in prior:\n",
        "        prob = prior[label]\n",
        "        for col in test_data.columns[:-1]:\n",
        "            value = row[col]\n",
        "            if value in cond_prob[(col, label)]:\n",
        "                prob *= cond_prob[(col, label)][value]\n",
        "            else:\n",
        "                prob *= 1 / (prior[label] * total + len(set(train_data[col])))\n",
        "        probs[label] = prob\n",
        "    predicted.append(max(probs, key=probs.get))\n",
        "\n",
        "# Evaluate the performance of the model\n",
        "actual = test_data['fraudulent'].tolist()\n",
        "tp = fp = tn = fn = 0\n",
        "for i in range(len(actual)):\n",
        "    if actual[i] == predicted[i]:\n",
        "        if actual[i] == 1:\n",
        "            tp += 1\n",
        "        else:\n",
        "            tn += 1\n",
        "    else:\n",
        "        if actual[i] == 1:\n",
        "            fn += 1\n",
        "        else:\n",
        "            fp += 1\n",
        "accuracy = (tp + tn) / (tp + fp + tn + fn)\n",
        "precision = tp / (tp + fp)\n",
        "recall = tp / (tp + fn)\n",
        "f1_score = 2 * precision * recall / (precision + recall)\n",
        "print('Accuracy:', accuracy)\n",
        "print('Precision:', precision)\n",
        "print('Recall:', recall)\n",
        "print('F1 Score:', f1_score)"
      ]
    },
    {
      "cell_type": "code",
      "execution_count": null,
      "metadata": {
        "id": "mjxHpVGGJ6-U",
        "outputId": "1461af53-7f37-4e78-ddb1-45acc5d1f9f5",
        "colab": {
          "base_uri": "https://localhost:8080/",
          "height": 281
        }
      },
      "outputs": [
        {
          "output_type": "display_data",
          "data": {
            "text/plain": [
              "<Figure size 432x288 with 1 Axes>"
            ],
            "image/png": "[encoded data removed]"
          },
          "metadata": {
            "needs_background": "light"
          }
        }
      ],
      "source": [
        "# Plot the metrics\n",
        "fig, ax = plt.subplots()\n",
        "ax.bar([\"Accuracy\", \"Precision\", \"Recall\", \"F1 Score\"], [accuracy, precision, recall, f1_score], color=[\"blue\", \"green\", \"red\", \"purple\"])\n",
        "ax.set_ylim([0, 1])\n",
        "ax.set_title(\"Evaluation Metrics\")\n",
        "ax.set_ylabel(\"Score\")\n",
        "plt.show()"
      ]
    },
    {
      "cell_type": "code",
      "execution_count": null,
      "metadata": {
        "id": "jDbVMPNbJ6-U",
        "outputId": "faf751e0-f8b9-481a-acfb-df50ad34d662",
        "colab": {
          "base_uri": "https://localhost:8080/",
          "height": 303
        }
      },
      "outputs": [
        {
          "output_type": "display_data",
          "data": {
            "text/plain": [
              "<Figure size 432x288 with 2 Axes>"
            ],
            "image/png": "[encoded data removed]"
          },
          "metadata": {
            "needs_background": "light"
          }
        }
      ],
      "source": [
        "# Define the labels for the confusion matrix\n",
        "labels = ['Positive', 'Negative']\n",
        "\n",
        "# Create the confusion matrix\n",
        "conf_matrix = np.array([[tp, fn], [fp, tn]])\n",
        "\n",
        "# Create the heatmap for the confusion matrix\n",
        "heatmap = plt.pcolor(conf_matrix, cmap=plt.cm.Blues)\n",
        "\n",
        "# Set the ticks for the heatmap\n",
        "plt.xticks([0.5, 1.5], labels, fontsize=12)\n",
        "plt.yticks([0.5, 1.5], labels, fontsize=12)\n",
        "\n",
        "# Add the values to the heatmap\n",
        "for i in range(len(labels)):\n",
        "    for j in range(len(labels)):\n",
        "        plt.text(j+0.5, i+0.5, str(conf_matrix[i][j]), fontsize=12,\n",
        "                 horizontalalignment='center', verticalalignment='center')\n",
        "\n",
        "# Add a color bar to the heatmap\n",
        "plt.colorbar(heatmap)\n",
        "\n",
        "# Set the title and axis labels\n",
        "plt.title('Confusion Matrix', fontsize=16)\n",
        "plt.xlabel('Predicted Label', fontsize=12)\n",
        "plt.ylabel('True Label', fontsize=12)\n",
        "\n",
        "# Show the plot\n",
        "plt.show()"
      ]
    },
    {
      "cell_type": "code",
      "execution_count": null,
      "metadata": {
        "id": "63zxYdcSgzFo"
      },
      "outputs": [],
      "source": [
        "from sklearn.preprocessing import LabelEncoder\n",
        "le=LabelEncoder()"
      ]
    },
    {
      "cell_type": "code",
      "execution_count": null,
      "metadata": {
        "id": "jUlQ8E-Ag2Ju"
      },
      "outputs": [],
      "source": [
        "col_list=list(df.columns)\n",
        "for i in col_list:\n",
        "    if df[i].dtype=='object':\n",
        "        df[i]=le.fit_transform(df[i])"
      ]
    },
    {
      "cell_type": "code",
      "execution_count": null,
      "metadata": {
        "id": "-_rNGhvwYGBz"
      },
      "outputs": [],
      "source": [
        "y=df['fraudulent']\n",
        "x=df.drop(['fraudulent'],axis=1)"
      ]
    },
    {
      "cell_type": "code",
      "execution_count": null,
      "metadata": {
        "id": "RrEEMpwwfqWO"
      },
      "outputs": [],
      "source": [
        "from sklearn.model_selection import train_test_split\n",
        "x_train,x_test,y_train,y_test=train_test_split(x,y,random_state=0,test_size=0.2)"
      ]
    },
    {
      "cell_type": "code",
      "execution_count": null,
      "metadata": {
        "colab": {
          "base_uri": "https://localhost:8080/",
          "height": 75
        },
        "id": "aXClzbjjfwsd",
        "outputId": "dd1a0b8b-d641-4e12-f1bf-80322fc1ded5"
      },
      "outputs": [
        {
          "output_type": "execute_result",
          "data": {
            "text/plain": [
              "RandomForestClassifier()"
            ],
            "text/html": [
              "<style>#sk-container-id-2 {color: black;background-color: white;}#sk-container-id-2 pre{padding: 0;}#sk-container-id-2 div.sk-toggleable {background-color: white;}#sk-container-id-2 label.sk-toggleable__label {cursor: pointer;display: block;width: 100%;margin-bottom: 0;padding: 0.3em;box-sizing: border-box;text-align: center;}#sk-container-id-2 label.sk-toggleable__label-arrow:before {content: \"▸\";float: left;margin-right: 0.25em;color: #696969;}#sk-container-id-2 label.sk-toggleable__label-arrow:hover:before {color: black;}#sk-container-id-2 div.sk-estimator:hover label.sk-toggleable__label-arrow:before {color: black;}#sk-container-id-2 div.sk-toggleable__content {max-height: 0;max-width: 0;overflow: hidden;text-align: left;background-color: #f0f8ff;}#sk-container-id-2 div.sk-toggleable__content pre {margin: 0.2em;color: black;border-radius: 0.25em;background-color: #f0f8ff;}#sk-container-id-2 input.sk-toggleable__control:checked~div.sk-toggleable__content {max-height: 200px;max-width: 100%;overflow: auto;}#sk-container-id-2 input.sk-toggleable__control:checked~label.sk-toggleable__label-arrow:before {content: \"▾\";}#sk-container-id-2 div.sk-estimator input.sk-toggleable__control:checked~label.sk-toggleable__label {background-color: #d4ebff;}#sk-container-id-2 div.sk-label input.sk-toggleable__control:checked~label.sk-toggleable__label {background-color: #d4ebff;}#sk-container-id-2 input.sk-hidden--visually {border: 0;clip: rect(1px 1px 1px 1px);clip: rect(1px, 1px, 1px, 1px);height: 1px;margin: -1px;overflow: hidden;padding: 0;position: absolute;width: 1px;}#sk-container-id-2 div.sk-estimator {font-family: monospace;background-color: #f0f8ff;border: 1px dotted black;border-radius: 0.25em;box-sizing: border-box;margin-bottom: 0.5em;}#sk-container-id-2 div.sk-estimator:hover {background-color: #d4ebff;}#sk-container-id-2 div.sk-parallel-item::after {content: \"\";width: 100%;border-bottom: 1px solid gray;flex-grow: 1;}#sk-container-id-2 div.sk-label:hover label.sk-toggleable__label {background-color: #d4ebff;}#sk-container-id-2 div.sk-serial::before {content: \"\";position: absolute;border-left: 1px solid gray;box-sizing: border-box;top: 0;bottom: 0;left: 50%;z-index: 0;}#sk-container-id-2 div.sk-serial {display: flex;flex-direction: column;align-items: center;background-color: white;padding-right: 0.2em;padding-left: 0.2em;position: relative;}#sk-container-id-2 div.sk-item {position: relative;z-index: 1;}#sk-container-id-2 div.sk-parallel {display: flex;align-items: stretch;justify-content: center;background-color: white;position: relative;}#sk-container-id-2 div.sk-item::before, #sk-container-id-2 div.sk-parallel-item::before {content: \"\";position: absolute;border-left: 1px solid gray;box-sizing: border-box;top: 0;bottom: 0;left: 50%;z-index: -1;}#sk-container-id-2 div.sk-parallel-item {display: flex;flex-direction: column;z-index: 1;position: relative;background-color: white;}#sk-container-id-2 div.sk-parallel-item:first-child::after {align-self: flex-end;width: 50%;}#sk-container-id-2 div.sk-parallel-item:last-child::after {align-self: flex-start;width: 50%;}#sk-container-id-2 div.sk-parallel-item:only-child::after {width: 0;}#sk-container-id-2 div.sk-dashed-wrapped {border: 1px dashed gray;margin: 0 0.4em 0.5em 0.4em;box-sizing: border-box;padding-bottom: 0.4em;background-color: white;}#sk-container-id-2 div.sk-label label {font-family: monospace;font-weight: bold;display: inline-block;line-height: 1.2em;}#sk-container-id-2 div.sk-label-container {text-align: center;}#sk-container-id-2 div.sk-container {/* jupyter's `normalize.less` sets `[hidden] { display: none; }` but bootstrap.min.css set `[hidden] { display: none !important; }` so we also need the `!important` here to be able to override the default hidden behavior on the sphinx rendered scikit-learn.org. See: https://github.com/scikit-learn/scikit-learn/issues/21755 */display: inline-block !important;position: relative;}#sk-container-id-2 div.sk-text-repr-fallback {display: none;}</style><div id=\"sk-container-id-2\" class=\"sk-top-container\"><div class=\"sk-text-repr-fallback\"><pre>RandomForestClassifier()</pre><b>In a Jupyter environment, please rerun this cell to show the HTML representation or trust the notebook. <br />On GitHub, the HTML representation is unable to render, please try loading this page with nbviewer.org.</b></div><div class=\"sk-container\" hidden><div class=\"sk-item\"><div class=\"sk-estimator sk-toggleable\"><input class=\"sk-toggleable__control sk-hidden--visually\" id=\"sk-estimator-id-2\" type=\"checkbox\" checked><label for=\"sk-estimator-id-2\" class=\"sk-toggleable__label sk-toggleable__label-arrow\">RandomForestClassifier</label><div class=\"sk-toggleable__content\"><pre>RandomForestClassifier()</pre></div></div></div></div></div>"
            ]
          },
          "metadata": {},
          "execution_count": 52
        }
      ],
      "source": [
        "from sklearn.metrics import accuracy_score, precision_score, recall_score, f1_score\n",
        "from sklearn.ensemble import RandomForestClassifier\n",
        "random_forest=RandomForestClassifier()\n",
        "random_forest.fit(x_train,y_train)"
      ]
    },
    {
      "cell_type": "code",
      "execution_count": null,
      "metadata": {
        "colab": {
          "base_uri": "https://localhost:8080/"
        },
        "id": "fUXiVBwchFVG",
        "outputId": "ae374a5b-3f58-4d63-d9e2-48d31752b921"
      },
      "outputs": [
        {
          "output_type": "stream",
          "name": "stdout",
          "text": [
            "Accuracy: 0.9391713194240376\n",
            "Precision: 0.9391904814876155\n",
            "Recall: 0.9391713194240376\n",
            "F1-score: 0.9391727902860527\n"
          ]
        }
      ],
      "source": [
        "y_pred=random_forest.predict(x_test)\n",
        "\n",
        "accuracy = accuracy_score(y_test, y_pred)\n",
        "print(\"Accuracy:\", accuracy)\n",
        "\n",
        "precision = precision_score(y_test, y_pred, average='weighted')\n",
        "print(\"Precision:\", precision)\n",
        "\n",
        "recall = recall_score(y_test, y_pred, average='weighted')\n",
        "print(\"Recall:\", recall)\n",
        "\n",
        "f1 = f1_score(y_test, y_pred, average='weighted')\n",
        "print(\"F1-score:\", f1)"
      ]
    }
  ],
  "metadata": {
    "colab": {
      "provenance": []
    },
    "kernelspec": {
      "display_name": "Python 3",
      "language": "python",
      "name": "python3"
    },
    "language_info": {
      "codemirror_mode": {
        "name": "ipython",
        "version": 3
      },
      "file_extension": ".py",
      "mimetype": "text/x-python",
      "name": "python",
      "nbconvert_exporter": "python",
      "pygments_lexer": "ipython3",
      "version": "3.8.3"
    }
  },
  "nbformat": 4,
  "nbformat_minor": 0
}